{
 "cells": [
  {
   "cell_type": "markdown",
   "id": "a2f58681",
   "metadata": {},
   "source": [
    "# pymysql\n",
    "\n",
    "-   파이썬에서 MySQL, MariaDB DBMS와 연동하는 다양한 함수를 제공하는 모듈\n",
    "-   Python [DB API 2.0](http://www.python.org/dev/peps/pep-0249) 표준을 따른다.\n",
    "-   https://github.com/PyMySQL/PyMySQL/\n",
    "-   https://pymysql.readthedocs.io/en/latest/\n"
   ]
  },
  {
   "cell_type": "markdown",
   "id": "43cccb80",
   "metadata": {},
   "source": [
    "# 설치\n",
    "\n",
    "-   조건\n",
    "    -   python version 3.6 이상\n",
    "    -   mysql version 5.6 이상\n",
    "-   설치\n",
    "    -   `pip install pymysql`\n"
   ]
  },
  {
   "cell_type": "code",
   "execution_count": null,
   "id": "16ddb3ec",
   "metadata": {},
   "outputs": [],
   "source": [
    "%pip install pymysql"
   ]
  },
  {
   "cell_type": "markdown",
   "id": "7572463d",
   "metadata": {},
   "source": [
    "# 기본 작성 절차\n",
    "\n",
    "1. Database 연결\n",
    "    ```python\n",
    "       connection =  pymysql.connect(host:str=\"DBMS 서버 ip\",\n",
    "                                     port:int=port번호,\n",
    "                                     user:str=\"계정명\",\n",
    "                                     password:str=\"비밀번호\",\n",
    "                                     db:str=\"연결할데이터베이스이름\")\n",
    "    ```\n",
    "    - port 번호 기본값: 3306\n",
    "    - ContextManager 타입으로 with 구문을 이용해 작성하면 close() 작업을 자동으로 처리한다.\n",
    "2. Connection을 이용해 Cursor 생성\n",
    "    - Cursor: 연결된 Database에 sql문을 전송하고 select결과 조회 기능을 제공하는 객체\n",
    "    ```python\n",
    "        cursor = connection.cursor()\n",
    "    ```\n",
    "    - ContextManager 타입으로 with 구문을 이용해 작성하면 close() 작업을 자동으로 처리한다.\n",
    "3. Cusror를 이용해 SQL문 실행(DB Server로 전송)\n",
    "    ```python\n",
    "        cursor.execute(\"sql문\")\n",
    "    ```\n",
    "4. Select 결과 조회\n",
    "    - select 문을 실행한 경우 cursor를 의 fetch 메소드들을 이용해 select 결과를 조회한다.\n",
    "    ```python\n",
    "    result = cursor.fetchall()\n",
    "    ```\n",
    "5. 연결 닫기\n",
    "    - cursor, connection 연결을 닫는다.\n",
    "    - with문을 이용할 수 있다.\n",
    "    ```python\n",
    "    cursor.close()\n",
    "    connection.close()\n",
    "    ```\n"
   ]
  },
  {
   "cell_type": "markdown",
   "id": "3262b127",
   "metadata": {},
   "source": [
    "# 예제\n",
    "\n",
    "## 테이블 생성\n"
   ]
  },
  {
   "cell_type": "code",
   "execution_count": null,
   "id": "1fbddc50-275f-4803-b3f9-2f8f19a86690",
   "metadata": {},
   "outputs": [],
   "source": [
    "create_sql = \"\"\"\n",
    "create table customer(\n",
    "  id  int  auto_increment  primary key,\n",
    "  name  varchar(20) not null,\n",
    "  email  varchar(50) not null unique, \n",
    "  tall   double,\n",
    "  birthday  date,\n",
    "  created_at  datetime  not null\n",
    ")\n",
    "\"\"\"\n",
    "# sql 문 마지막에 `;` 은 붙이지 않는다."
   ]
  },
  {
   "cell_type": "code",
   "execution_count": null,
   "id": "d9b6ce09-4545-4540-aa6a-d73adf5a6c13",
   "metadata": {
    "scrolled": true
   },
   "outputs": [],
   "source": [
    "import pymysql\n",
    "\n",
    "try:\n",
    "    conn = None  # connection을 저장할 변수\n",
    "    \n",
    "    # 1. Database와 연결.\n",
    "    conn = pymysql.connect(\n",
    "        host=\"127.0.0.1\",    # DBMS 의 ip(host) : str\n",
    "        port=3306,           # DBMS의 port 번호: int\n",
    "        user='playdata',     # username: str\n",
    "        password=\"1111\",     # password: str\n",
    "        db=\"mydb\"            #  연결할 Database이름: str\n",
    "    )  # 연결 성공하면 연결된 DB와 관련 작업할 수있는 기능을 제공하는 Connection객체를 반환\n",
    "    \n",
    "    # 2. Connection을 사용해서 Cursor 객체 생성\n",
    "    #    Cursor: sql 처리를 하는 기능을 제공.( sql 전송하고 처리결과를 받을 때까지 과정을 관리)\n",
    "    cursor = conn.cursor()\n",
    "        \n",
    "    # 3. SQL 문 전송\n",
    "    cursor.execute(\"drop table if exists customer\")\n",
    "    cursor.execute(create_sql)\n",
    "    \n",
    "finally:\n",
    "    # 4. 연결닫기(끊기)\n",
    "    if conn:\n",
    "        cursor.close() # 4-1. cursor 연결 닫기\n",
    "        conn.close()   # 4-2. connection 연결 닫기"
   ]
  },
  {
   "cell_type": "code",
   "execution_count": null,
   "id": "6f676b11-04b4-4591-9601-51973a9415f7",
   "metadata": {},
   "outputs": [],
   "source": []
  },
  {
   "cell_type": "markdown",
   "id": "98b6a836-68da-4dcb-80fc-f0ac22949b8b",
   "metadata": {},
   "source": [
    "## 파이썬 타입과 sql 데이터타입 \n",
    "- str - 문자열타입(char, varchar, text,...)\n",
    "- int - 정수(tiny int , int, ....)\n",
    "- float - 부동소수 실수(float, double)\n",
    "- decimal.Decimal - 고정소수 실수(decimal)\n",
    "- datetime.date - date\n",
    "- datetime.time - time\n",
    "- datetime.datetime - datetime, timestamp"
   ]
  },
  {
   "cell_type": "markdown",
   "id": "6741499c-a897-4092-8f11-df4720345cf7",
   "metadata": {},
   "source": [
    "> ### datetime 모듈\n",
    "> - 파이썬에서 날짜, 시간을 다루는 모듈\n",
    "> - 날짜 type(class): date\n",
    "> - 시간 type: time\n",
    "> - 날짜시간 type: datetime"
   ]
  },
  {
   "cell_type": "code",
   "execution_count": null,
   "id": "05365fbf-2093-484d-a4c1-d301a1927489",
   "metadata": {},
   "outputs": [],
   "source": [
    "from datetime import date, time, datetime\n",
    "# 실행 시점\n",
    "now = datetime.now()\n",
    "print(now)\n",
    "print(now.year, now.month, now.day, now.hour, now.minute, now.second)\n",
    "today = date.today()\n",
    "print(today)\n",
    "\n",
    "# 특정 시점의 일시\n",
    "d1 = date(2000, 10, 2)\n",
    "print(d1)\n",
    "d2 = datetime(1990, 2, 7, 10, 22, 53)\n",
    "print(d2)\n",
    "t = time(17, 22, 33)\n",
    "print(t)"
   ]
  },
  {
   "cell_type": "markdown",
   "id": "59b4e786",
   "metadata": {},
   "source": [
    "## DML\n",
    "\n",
    "### insert\n"
   ]
  },
  {
   "cell_type": "code",
   "execution_count": null,
   "id": "61deab37",
   "metadata": {},
   "outputs": [],
   "source": [
    "sql = \"insert into customer (name, email, tall, birthday, created_at) values('이순신', 'lee1@naver.com', 185.23, '2000-09-20', now())\""
   ]
  },
  {
   "cell_type": "code",
   "execution_count": null,
   "id": "c78ebebd",
   "metadata": {
    "scrolled": true
   },
   "outputs": [],
   "source": [
    "# with 문을 이용해 connection, cursor 생성: with block을 빠져 나올 때 자동으로 close() 처리한다.\n",
    "# DML(insert/update/delete) 구문은 처리 후 commit을 실행해야 영구적으로 적용된다.\n",
    "with pymysql.connect(host=\"127.0.0.1\", port=3306, user=\"playdata\", password=\"1111\", db=\"mydb\") as conn:\n",
    "    with conn.cursor() as cursor:\n",
    "        result = cursor.execute(sql) # 반환값: 처리행수(insert/delete/update된 행수, select 조회행수)\n",
    "        print(\"처리 행수:\", result)\n",
    "        conn.commit()\n",
    "   "
   ]
  },
  {
   "cell_type": "markdown",
   "id": "c1d9de83",
   "metadata": {
    "ExecuteTime": {
     "end_time": "2022-04-19T06:23:30.323879Z",
     "start_time": "2022-04-19T06:23:30.304888Z"
    }
   },
   "source": [
    "### Parameterized Query\n",
    "\n",
    "-   Parameterized Query\n",
    "    -   SQL 문에서  **값**이 들어가는 자리에 값 대신 `%s` **placeholder**를 사용한뒤 execute()에서 placeholder에 넣을 값을 list나 tuple로 제공한다.\n",
    "    -   동일한 쿼리문을 값을 바꿔가면서 여러번 실행할 때 유용하다.\n"
   ]
  },
  {
   "cell_type": "code",
   "execution_count": null,
   "id": "85b23241-9ea0-4d76-8ce4-1502e5d2c49f",
   "metadata": {
    "scrolled": true
   },
   "outputs": [],
   "source": [
    "import pymysql\n",
    "\n",
    "# insert할 값 입력받기\n",
    "name = input(\"이름:\")\n",
    "email = input(\"이메일주소:\")\n",
    "tall = float(input('키:'))\n",
    "\n",
    "insert_sql = \"insert into customer (name, email, tall, birthday, created_at) values (%s, %s, %s, %s, now())\"\n",
    "\n",
    "with pymysql.connect(host=\"127.0.0.1\", port=3306, user='playdata', password='1111', db='mydb') as conn:\n",
    "    with conn.cursor() as cursor:\n",
    "        result = cursor.execute(insert_sql, [name, email, tall, \"2010-01-01\"])\n",
    "        conn.commit()\n",
    "        print(\"처리 행수:\", result)"
   ]
  },
  {
   "cell_type": "markdown",
   "id": "7322f3bb",
   "metadata": {},
   "source": [
    "#### Parameterized Query를 이용해 여러 행 insert\n",
    "\n",
    "- executemany() 사용\n",
    "    - insert할 값들을 가진 리스트를 넣어 한번에 여러 행을 insert한다.\n"
   ]
  },
  {
   "cell_type": "code",
   "execution_count": null,
   "id": "f72beeb1",
   "metadata": {},
   "outputs": [],
   "source": [
    "from datetime import datetime, date\n",
    "datas = [\n",
    "    [\"김인영\", \"abc2@a.com\", 165, date(2005, 1, 12), datetime.now()],\n",
    "    [\"오수철\", \"def2@a.com\", 175, date(1995, 12, 20), datetime.now()],\n",
    "    [\"최유명\", \"ghi2@a.com\", 183, date(1978, 10, 28), datetime.now()],\n",
    "    [\"김명수\", \"jkl@abc.com\", 177, date(2000, 2, 12), datetime.now()],\n",
    "    [\"이지영\", \"mno@abc.com\", 163, date(1995, 4, 21), datetime.now()],\n",
    "    [\"박명수\", \"pqr@abc.com\", 185, date(2002, 7, 5), datetime.now()],\n",
    "]"
   ]
  },
  {
   "cell_type": "code",
   "execution_count": null,
   "id": "479c00d9-56ca-4b95-bac9-f97477b2c95a",
   "metadata": {},
   "outputs": [],
   "source": [
    "# for data in datas:\n",
    "#     cursor.execute(insert_sql, data)"
   ]
  },
  {
   "cell_type": "code",
   "execution_count": null,
   "id": "2792bae6",
   "metadata": {},
   "outputs": [],
   "source": [
    "insert_sql = \"insert into customer(name, email, tall, birthday, created_at) values(%s, %s, %s, %s, %s)\"\n",
    "with pymysql.connect(host=\"127.0.0.1\", port=3306, user='playdata', password='1111', db='mydb') as conn:\n",
    "    with conn.cursor() as cursor:\n",
    "        cnt = cursor.executemany(insert_sql, datas)\n",
    "        conn.commit()\n",
    "\n",
    "print(\"insert된 총 행수:\", cnt)"
   ]
  },
  {
   "cell_type": "markdown",
   "id": "d78f4253",
   "metadata": {},
   "source": [
    "### update/delete\n",
    "\n",
    "-   코딩 절차는 insert 와 동일\n"
   ]
  },
  {
   "cell_type": "code",
   "execution_count": null,
   "id": "5f056266",
   "metadata": {},
   "outputs": [],
   "source": [
    "update_sql = \"update customer set tall=%s where id=%s\"\n",
    "tall = float(input(\"변경할 키: \"))\n",
    "cust_id = int(input(\"변경할 고객 ID: \"))\n",
    "\n",
    "with pymysql.connect(host=\"127.0.0.1\", port=3306, user='playdata', password='1111', db='mydb') as conn:\n",
    "    with conn.cursor() as cursor:\n",
    "        result = cursor.execute(update_sql, [tall, cust_id])\n",
    "        print(\"처리 행수: \", result)\n",
    "        conn.commit()"
   ]
  },
  {
   "cell_type": "code",
   "execution_count": null,
   "id": "c07f1e80-a9a4-4a8b-bd4c-e9d0fc1fcd7e",
   "metadata": {},
   "outputs": [],
   "source": [
    "update_sql = \"update customer set email=%s, tall=%s where id=%s\"\n",
    "email = input(\"변경할 Email주소: \")\n",
    "tall = float(input(\"변경할 키: \"))\n",
    "cust_id = int(input(\"변경할 고객 ID: \"))\n",
    "\n",
    "with pymysql.connect(host=\"127.0.0.1\", port=3306, user='playdata', password='1111', db='mydb') as conn:\n",
    "    with conn.cursor() as cursor:\n",
    "        result = cursor.execute(update_sql, [email, tall, cust_id])\n",
    "        print(\"처리 행수: \", result)\n",
    "        conn.commit()"
   ]
  },
  {
   "cell_type": "code",
   "execution_count": null,
   "id": "55cc6af5",
   "metadata": {},
   "outputs": [],
   "source": [
    "delete_sql = \"delete from customer where tall > %s\"\n",
    "\n",
    "tall = float(input(\"삭제기준 키:\"))\n",
    "\n",
    "with pymysql.connect(host=\"127.0.0.1\", port=3306, user='playdata', password='1111', db='mydb') as conn:\n",
    "    with conn.cursor() as cursor:\n",
    "        result = cursor.execute(delete_sql, [tall])\n",
    "        print(\"처리 행수: \", result)\n",
    "        conn.commit()"
   ]
  },
  {
   "cell_type": "code",
   "execution_count": null,
   "id": "ea34cdb7",
   "metadata": {},
   "outputs": [],
   "source": []
  },
  {
   "cell_type": "markdown",
   "id": "096891b8",
   "metadata": {},
   "source": [
    "## select (DQL - Data Query Language)\n",
    "\n",
    "-   조회결과 조회\n",
    "    -   `cursor.execute(\"select문\")` 실행 후 **`cursor`의 결과 조회 메소드(fetch메소드)를**` 이용해 결과를 받는다.\n",
    "-   fetch메소드(cursor의 메소드들)\n",
    "    -   **fetchall()**\n",
    "        -   조회한 모든 행들을 반환\n",
    "    -   **fetchmany(size=개수)**\n",
    "        -   전체 조회한 행들 중 지정한 size개수 만큼 반환.\n",
    "        -   연속적으로 실행하면 다음 size개수 만큼씩 반환한다.\n",
    "        -   더 이상 조회한 결과가 없으면 빈 튜플을 반환한다.\n",
    "    -   **fetchone()**\n",
    "        -   조회결과 중 첫번째 행만 반환\n",
    "        -   주로 pk 동등 조건으로 조회한 경우 사용\n"
   ]
  },
  {
   "cell_type": "markdown",
   "id": "524f4cb8",
   "metadata": {},
   "source": [
    "### fetchall()\n"
   ]
  },
  {
   "cell_type": "code",
   "execution_count": null,
   "id": "93a06bf2",
   "metadata": {},
   "outputs": [],
   "source": [
    "sql = \"select id, birthday, name, tall from customer\" \n",
    "with pymysql.connect(host=\"127.0.0.1\", port=3306, user='playdata', password='1111', db='mydb') as conn:\n",
    "    with conn.cursor() as cursor:\n",
    "        result = cursor.execute(sql)\n",
    "        print(\"조회행수:\", result)\n",
    "        resultset = cursor.fetchall()"
   ]
  },
  {
   "cell_type": "code",
   "execution_count": null,
   "id": "82a62b01",
   "metadata": {},
   "outputs": [],
   "source": [
    "resultset\n",
    "# tuple(개별행 - tuple(컬럼값들 ))"
   ]
  },
  {
   "cell_type": "code",
   "execution_count": null,
   "id": "32518037-2b70-444d-8b57-7b4531d79b6f",
   "metadata": {},
   "outputs": [],
   "source": [
    "resultset[0][1]"
   ]
  },
  {
   "cell_type": "markdown",
   "id": "2be0cc74-4dbc-4964-b2f7-d897c9fe5ccd",
   "metadata": {},
   "source": [
    "### 조회결과를 dictionary로 반환\n",
    "- pymysql.cursors.DictCursor 사용\n",
    "    - Connection 생성시 또는 Cursor 생성시 지정한다.\n",
    "- key: 컬럼명, value: 컬럼값"
   ]
  },
  {
   "cell_type": "code",
   "execution_count": null,
   "id": "bce604d1-9215-4afc-b54a-5ff44c82d488",
   "metadata": {},
   "outputs": [],
   "source": [
    "sql = \"select id, name, tall from customer\" \n",
    "with pymysql.connect(host=\"127.0.0.1\", port=3306, user='playdata', password='1111', db='mydb') as conn:\n",
    "    with conn.cursor(pymysql.cursors.DictCursor) as cursor:  \n",
    "        result = cursor.execute(sql)\n",
    "        print(\"조회행수:\", result)\n",
    "        resultset = cursor.fetchall()"
   ]
  },
  {
   "cell_type": "code",
   "execution_count": null,
   "id": "e04c153c-aad0-4b4a-92d3-a19ae9d9385d",
   "metadata": {},
   "outputs": [],
   "source": [
    "resultset\n",
    "# list[dictionary{key:컬럼명, value:컬럼값}]"
   ]
  },
  {
   "cell_type": "code",
   "execution_count": null,
   "id": "9bbc86ae-a13d-4df1-95d6-0721da5eb3c8",
   "metadata": {},
   "outputs": [],
   "source": [
    "resultset[1]['name'], resultset[1]['tall']"
   ]
  },
  {
   "cell_type": "markdown",
   "id": "b3a9867d",
   "metadata": {},
   "source": [
    "### fetchone()\n"
   ]
  },
  {
   "cell_type": "code",
   "execution_count": null,
   "id": "97500b7b",
   "metadata": {},
   "outputs": [],
   "source": [
    "sql = \"select * from customer where id = %s\" \n",
    "with pymysql.connect(host=\"127.0.0.1\", port=3306, user='playdata', password='1111', db='mydb') as conn:\n",
    "    with conn.cursor() as cursor:\n",
    "        result = cursor.execute(sql, [5])\n",
    "        print(\"조회행수:\", result)\n",
    "        resultset = cursor.fetchone()"
   ]
  },
  {
   "cell_type": "code",
   "execution_count": null,
   "id": "cd26d21b-3964-49cb-b178-4d133a1515cb",
   "metadata": {},
   "outputs": [],
   "source": [
    "resultset"
   ]
  },
  {
   "cell_type": "code",
   "execution_count": null,
   "id": "b0eaf81d",
   "metadata": {},
   "outputs": [],
   "source": [
    "if resultset:  # 조회결과가 없으면 None\n",
    "    print(resultset)\n",
    "else:\n",
    "    print(\"조회결과가 없음.\")"
   ]
  },
  {
   "cell_type": "markdown",
   "id": "cc8054bc",
   "metadata": {},
   "source": [
    "### fetchmany()\n"
   ]
  },
  {
   "cell_type": "code",
   "execution_count": null,
   "id": "7d72f49c",
   "metadata": {},
   "outputs": [],
   "source": [
    "sql = \"select id, name, birthday from customer\" \n",
    "with pymysql.connect(host=\"127.0.0.1\", port=3306, user='playdata', password='1111', db='mydb') as conn:\n",
    "    with conn.cursor() as cursor:\n",
    "        result = cursor.execute(sql)\n",
    "        print(\"조회행수:\", result)\n",
    "        resultset1 = cursor.fetchmany(size=2)  # 처음 두개\n",
    "        resultset2 = cursor.fetchmany(size=2)  # 다음 두개\n",
    "        resultset3 = cursor.fetchmany(size=2)  # 다음 두개\n",
    "        resultset4 = cursor.fetchmany(size=2)  # 다음 두개 (모두 조회시 빈 튜플 반환함)"
   ]
  },
  {
   "cell_type": "code",
   "execution_count": null,
   "id": "50fffed5",
   "metadata": {},
   "outputs": [],
   "source": [
    "print(resultset1)\n",
    "print(resultset2)\n",
    "print(resultset3)\n",
    "print(resultset4)"
   ]
  },
  {
   "cell_type": "markdown",
   "id": "fca900bd",
   "metadata": {},
   "source": [
    "### select문을 실행한 cursor 는 iterable 타입\n",
    "\n",
    "-   for in 문에 select query를 실행한 cursor를 사용하면 조회결과를 한 행씩 조회할 수 있다.\n"
   ]
  },
  {
   "cell_type": "code",
   "execution_count": null,
   "id": "8332ff67",
   "metadata": {},
   "outputs": [],
   "source": [
    "sql = \"select * from customer\" \n",
    "with pymysql.connect(host=\"127.0.0.1\", port=3306, user='playdata', password='1111', db='mydb') as conn:\n",
    "    with conn.cursor() as cursor:\n",
    "        result = cursor.execute(sql)\n",
    "        print(\"조회행수:\", result)\n",
    "        for id, name, email, tall, birthday, created_at in cursor:\n",
    "            print(id, name, email, tall, birthday, created_at, sep=\" , \")"
   ]
  }
 ],
 "metadata": {
  "kernelspec": {
   "display_name": "Python 3",
   "language": "python",
   "name": "python3"
  },
  "language_info": {
   "codemirror_mode": {
    "name": "ipython",
    "version": 3
   },
   "file_extension": ".py",
   "mimetype": "text/x-python",
   "name": "python",
   "nbconvert_exporter": "python",
   "pygments_lexer": "ipython3",
   "version": "3.13.5"
  },
  "toc": {
   "base_numbering": 1,
   "nav_menu": {},
   "number_sections": false,
   "sideBar": true,
   "skip_h1_title": false,
   "title_cell": "Table of Contents",
   "title_sidebar": "Contents",
   "toc_cell": false,
   "toc_position": {},
   "toc_section_display": true,
   "toc_window_display": false
  },
  "varInspector": {
   "cols": {
    "lenName": 16,
    "lenType": 16,
    "lenVar": 40
   },
   "kernels_config": {
    "python": {
     "delete_cmd_postfix": "",
     "delete_cmd_prefix": "del ",
     "library": "var_list.py",
     "varRefreshCmd": "print(var_dic_list())"
    },
    "r": {
     "delete_cmd_postfix": ") ",
     "delete_cmd_prefix": "rm(",
     "library": "var_list.r",
     "varRefreshCmd": "cat(var_dic_list()) "
    }
   },
   "types_to_exclude": [
    "module",
    "function",
    "builtin_function_or_method",
    "instance",
    "_Feature"
   ],
   "window_display": false
  }
 },
 "nbformat": 4,
 "nbformat_minor": 5
}
