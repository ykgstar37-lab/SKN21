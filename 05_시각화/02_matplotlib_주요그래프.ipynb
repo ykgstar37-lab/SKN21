{
 "cells": [
  {
   "cell_type": "markdown",
   "metadata": {},
   "source": [
    "# 선 그래프 (Line plot) 그리기\n",
    "## 선 그래프(꺽은선 그래프)\n",
    "- 점과 점을 선으로 연결한 그래프\n",
    "- 시간의 흐름에 따른 **변화를 표현**할 때 많이 사용한다. (시계열)\n",
    "- `plot([x], y)` \n",
    "    - 1번인수 : x값(생략가능), 2번인수 y값\n",
    "    - 인수가 하나인 경우 y 축의 값으로 설정되고 X값은 (0 ~ len(y)-1) 범위로 지정된다.\n",
    "    - x와 y의 원소개수는 같아야 한다.\n",
    "- 하나의 axes(subplot)에 여러 개의 선 그리기\n",
    "    - 같은 axes에 plot()를 여러번 실행한다.\n",
    "- 선 스타일\n",
    "    - linestyle 속성에 설정\n",
    "    - https://matplotlib.org/3.0.3/gallery/lines_bars_and_markers/line_styles_reference.html    "
   ]
  },
  {
   "cell_type": "code",
   "execution_count": null,
   "metadata": {},
   "outputs": [],
   "source": [
    "# 선스타일\n",
    "\n",
    "import matplotlib.pyplot as plt\n",
    "import numpy as np\n",
    "\n",
    "x = np.linspace(1,10,num=10)\n",
    "plt.figure(figsize=(10,10))\n",
    "plt.plot(x, x+3, linestyle='--')\n",
    "plt.plot(x, x+2, linestyle='-.')\n",
    "plt.plot(x, x+1, linestyle=':')\n",
    "plt.plot(x, x, marker='.')\n",
    "plt.show()"
   ]
  },
  {
   "cell_type": "markdown",
   "metadata": {},
   "source": [
    "### 선 그래프 활용\n",
    "- 주식 가격 변화 시각화"
   ]
  },
  {
   "cell_type": "code",
   "execution_count": null,
   "metadata": {},
   "outputs": [],
   "source": [
    "import pandas as pd\n",
    "import matplotlib.pyplot as plt\n",
    "\n",
    "# 년도를 index name으로 지정해서 조회\n",
    "convert_int_cols = ['Close','High', 'Low', 'Open']\n",
    "# dict: {값변경할컬럼:변경처리함수}\n",
    "converters ={\n",
    "        col: lambda x: int(float(x)) if x not in (\"\", \"NaN\") else pd.NA\n",
    "        for col in convert_int_cols\n",
    "    }\n",
    "df_electron = pd.read_csv(\n",
    "    'data/samsung_electronics_2024-2025.csv',\n",
    "     parse_dates=['Date'], # Date컬럼을날짜형식으로 변환\n",
    "     index_col='Date',     # Date컬럼을 index로 지정\n",
    "     converters=converters\n",
    ")\n",
    "\n",
    "df_bio = pd.read_csv(\n",
    "    'data/samsung_biologics_2024-2025.csv',\n",
    "     parse_dates=['Date'], # Date컬럼을날짜형식으로 변환\n",
    "     index_col='Date',     # Date컬럼을 index로 지정\n",
    "     converters=converters\n",
    ") \n",
    "\n",
    "df_electron.shape, df_bio.shape"
   ]
  },
  {
   "cell_type": "code",
   "execution_count": null,
   "metadata": {},
   "outputs": [],
   "source": [
    "df_electron.info()\n",
    "print('==============================================================================')\n",
    "df_bio.info()"
   ]
  },
  {
   "cell_type": "code",
   "execution_count": null,
   "metadata": {},
   "outputs": [],
   "source": [
    "df_electron.head()"
   ]
  },
  {
   "cell_type": "code",
   "execution_count": null,
   "metadata": {},
   "outputs": [],
   "source": [
    "df_bio.head()"
   ]
  },
  {
   "cell_type": "code",
   "execution_count": null,
   "metadata": {},
   "outputs": [],
   "source": [
    "# 컬럼명 변경 - 소문자로 변경\n",
    "df_electron.columns = [col.lower() for col in df_electron.columns]\n",
    "df_electron.head()"
   ]
  },
  {
   "cell_type": "code",
   "execution_count": null,
   "metadata": {},
   "outputs": [],
   "source": [
    "df_bio.columns = [col.lower() for col in df_bio.columns]\n",
    "df_bio.head()"
   ]
  },
  {
   "cell_type": "code",
   "execution_count": null,
   "metadata": {},
   "outputs": [],
   "source": [
    "## 삼성 전자 날짜별 종가의 변화율\n",
    "plt.figure(figsize=(15, 5))\n",
    "plt.plot(\n",
    "    df_electron.index,\n",
    "    df_electron['close']\n",
    ")\n",
    "\n",
    "# 눈금(ticks) 지정\n",
    "# xticks(): X축 눈금 지정\n",
    "# yticks(): Y축 눈금 지정\n",
    "\n",
    "\n",
    "plt.yticks(\n",
    "    range(50000, 100001, 5000),  # 눈금의 위치\n",
    "    labels=[format(v, ',') for v in range(50000, 100001, 5000)] # 눈금 Label 값\n",
    ")\n",
    "plt.show()"
   ]
  },
  {
   "cell_type": "code",
   "execution_count": null,
   "metadata": {},
   "outputs": [],
   "source": [
    "# 시가, 종가를 같이 출력\n",
    "plt.figure(figsize=(15, 4))\n",
    "plt.plot(df_electron.index, df_electron['open'], label=\"시가\")\n",
    "plt.plot(df_electron.index, df_electron['close'], label=\"종가\", alpha=0.5)\n",
    "\n",
    "plt.title(\"황사 주의보, 경보 발령횟수 변화 흐름\")\n",
    "plt.legend()\n",
    "\n",
    "# plt.xlim(pd.Timestamp('2024-01-01'), pd.Timestamp('2024-03-31')) # x축의 범위 지정\n",
    "\n",
    "plt.show()"
   ]
  },
  {
   "cell_type": "markdown",
   "metadata": {},
   "source": [
    "### 값의 범위(Scale)가 다른 두 데이터셋을 하나의 subplot에 선 그래프로 그리기\n",
    "\n",
    "- **선 그래프(Line Plot)** 는 기본적으로 각 축의 범위를 데이터의 최소값(`min`)과 최대값(`max`)에 맞춰 자동으로 설정한다.  \n",
    "따라서 값의 범위 차이가 큰 두 데이터를 하나의 subplot에 함께 그리면, **값의 범위가 적은 데이터는 거의 직선처럼 보이는 문제**가 발생한다.\n",
    "\n",
    "- 두 데이터의 **변화 추이(Trend)** 를 비교하고자 하는 것이 목적이라면, 한쪽 축은 첫 번째 데이터의 값, 다른 한쪽 축은 두 번째 데이터의 값을 표현하도록 **양쪽 축을 사용하는 방식**을 사용할 수 있다.\n",
    "\n",
    "#### 구현 방법\n",
    "\n",
    "- **X축을 공유하고 Y축을 두 개 사용하는 경우**\n",
    "\n",
    "  - 한 subplot에 두 개의 Y축을 배치하여 값 범위가 다른 두 데이터를 동시에 시각화.\n",
    "  - `Axes.twinx()` 메서드를 사용하여 동일한 X축을 공유하는 보조 Y축을 생성.\n",
    "\n",
    "  ```python\n",
    "  fig, ax1 = plt.subplots()\n",
    "  ax2 = ax1.twinx()  # X축을 공유하는 두 번째 Y축 생성\n",
    "  ```\n",
    "\n",
    "- **Y축을 공유하고 X축을 두 개 사용하는 경우**\n",
    "\n",
    "  - 시간 또는 구간 단위가 서로 다른 데이터를 함께 비교할 때 사용.\n",
    "  - `Axes.twiny()` 메서드를 사용하여 동일한 Y축을 공유하는 보조 X축을 생성.\n",
    "\n",
    "  ```python\n",
    "  fig, ax1 = plt.subplots()\n",
    "  ax2 = ax1.twiny()  # Y축을 공유하는 두 번째 X축 생성\n",
    "  ```"
   ]
  },
  {
   "cell_type": "code",
   "execution_count": null,
   "metadata": {},
   "outputs": [],
   "source": [
    "plt.figure(figsize=(15, 4))\n",
    "\n",
    "plt.plot(df_electron.index, df_electron['close'], label=\"삼성전자\")\n",
    "plt.plot(df_bio.index, df_bio['close'], label=\"삼성 바이오\")\n",
    "\n",
    "# plt.ylim(0, 15)\n",
    "plt.legend()\n",
    "plt.show()"
   ]
  },
  {
   "cell_type": "code",
   "execution_count": null,
   "metadata": {},
   "outputs": [],
   "source": [
    "format(df_electron['close'].max().item(), ','), format(df_bio['close'].max().item(), ',')"
   ]
  },
  {
   "cell_type": "markdown",
   "metadata": {},
   "source": [
    "> - 한 axes의 여러 데이터를 이용해서 여러 그래프를 그리는 경우. \n",
    ">     - 둘 합쳐서 최소값과 최대값을 기준으로 축의 값의 범위를 잡아준다.\n",
    ">     - 위의 경우 y축 값의 범위(최대농도와 관측일수 중 최소값 ~ 최대농도와 관측일수 중 최대값)"
   ]
  },
  {
   "cell_type": "code",
   "execution_count": null,
   "metadata": {},
   "outputs": [],
   "source": [
    "# X 축을 공유하고 y축은 따로 생성\n",
    "plt.figure(figsize=(15, 4))\n",
    "\n",
    "# Axes 객체 생성.\n",
    "ax1 = plt.gca()   # 그래프를 그릴 수있는 Axes(Subplot)객체를 반환 (y: 왼쪽)\n",
    "ax2 = ax1.twinx() # ax1과 x축을 같이 사용하는 Axes 객체를 생성해서 반환. (y: 오른쪽)\n",
    "\n",
    "ax1.plot(df_electron.index, df_electron['close'], label=\"삼성전자\")\n",
    "ax1.set_xlabel(\"년도\")\n",
    "ax1.set_ylabel(\"가격(원)\")\n",
    "ax1.legend(bbox_to_anchor=(1.02, 1.01), loc=\"upper left\")\n",
    "\n",
    "ax2.plot(df_bio.index, df_bio['close'], color=\"red\",  label=\"삼성바이오\")\n",
    "ax2.set_ylabel(\"가격(원)\")\n",
    "ax2.legend(bbox_to_anchor=(1.02, 0.94), loc=\"upper left\")\n",
    "\n",
    "plt.show()\n",
    "\n",
    "\n"
   ]
  },
  {
   "cell_type": "markdown",
   "metadata": {},
   "source": [
    "> # 범례(Legend) 박스의 위치\n",
    "> - legend() 메소드로 설정\n",
    ">   \n",
    "> ## 1.  axes 안쪽에 정해진 위치를 지정\n",
    "> - 위/아래 : upper center, lower\n",
    "> - 좌/우   : left  center right\n",
    "> - 정가운데: center,    \n",
    "> - 알아서 최적의 장소를 선택: best\n",
    "> \n",
    "> ## 2. 원하는 위치에 지정.\n",
    "> - `bbox_to_anchor=(x축의 위치, y축의 위치)`: bbox의 위치 지정  \n",
    ">   - `bbox_to_anchor`의 상대적 좌표\n",
    ">     ```\n",
    ">     X축: 0-----------------------1\n",
    ">     Y축\n",
    ">     1\n",
    ">     |\n",
    ">     |\n",
    ">     0\n",
    ">     ```\n",
    "> - `loc=\"위아래   좌우\"`  bbox_to_anchor에 bbox의 어느 위치를 맞출지 지정.\n",
    ">   - ex: \"upper left\": bbox의 좌상단을 bbox_to_anchor 위치에 맞춰서 위치시킨다.\n",
    "> "
   ]
  },
  {
   "cell_type": "code",
   "execution_count": null,
   "metadata": {},
   "outputs": [],
   "source": []
  },
  {
   "cell_type": "markdown",
   "metadata": {},
   "source": [
    "# 산점도 (Scatter Plot) 그리기\n",
    "## 산점도(산포도)\n",
    "- X와 Y축을 가지는 좌표평면상 관측값들을 점을 찍어 표시하는 그래프\n",
    "- 변수(Feature)간의 [상관관계나](#상관계수) 관측값들 간의 군집 분류를 확인할 수 있다.\n",
    "- `scatter()` 메소드 사용\n",
    "    - 1번인수 : x축 값, 2번인수 y축 값\n",
    "    - x와 y값들을 모두 매개변수로 전달해야 한다.\n",
    "        - x와 y의 원소의 수는 같아야 한다.\n",
    "    - c/color: 색지정\n",
    "        - c와 x, y와 같은 원소수를 가지는 Iterable 타입 객체로 설정할 경우 각 마커마다 다른 색상을 설정할 수 있다\n",
    "    - s: 점 크기 지정\n",
    "    - marker\n",
    "        - marker란 점의 모양을 말하며 미리정의된 값으로 변경할 수있다.\n",
    "        - https://matplotlib.org/stable/api/markers_api.html "
   ]
  },
  {
   "cell_type": "code",
   "execution_count": null,
   "metadata": {},
   "outputs": [],
   "source": [
    "df = pd.read_csv('data/diamonds.csv')\n",
    "df.shape"
   ]
  },
  {
   "cell_type": "code",
   "execution_count": null,
   "metadata": {},
   "outputs": [],
   "source": [
    "df.head()"
   ]
  },
  {
   "cell_type": "code",
   "execution_count": null,
   "metadata": {},
   "outputs": [],
   "source": [
    "import matplotlib.pyplot as plt\n",
    "\n",
    "\n",
    "plt.scatter(\n",
    "    df['carat'],  # x축에 들어갈 값\n",
    "    df['price'],  # y축에 들어갈 값. x, y의 같은 index 위치에 점을 찍는다.\n",
    "    alpha=0.1     # 투명도. (투명)0 ~ 1(농도100%)\n",
    ")\n",
    "plt.xlabel(\"가격\")\n",
    "plt.ylabel(\"캐럿\")\n",
    "plt.show()"
   ]
  },
  {
   "cell_type": "code",
   "execution_count": null,
   "metadata": {},
   "outputs": [],
   "source": [
    "# 상관계수 계산\n",
    "df[['price', 'carat']].corr()"
   ]
  },
  {
   "cell_type": "markdown",
   "metadata": {},
   "source": [
    "> - ### 상관계수 \n",
    ">     - 두 변수간의 상관관계(비례/반비례)를 정량적(수치적)으로 계산한 값.\n",
    ">         - -1 ~ 1 사이의 값이 나온다. \n",
    ">         - 양의 상관관계: 0 ~ 1 (비례 관계) \n",
    ">         - 음의 상관관계: -1 ~ 0 (반비례 관계)\n",
    ">         - 절대값 기준 1로 갈수록 두 변수의 상관관계가 강하고 0으로 갈수록 약하다.\n",
    ">             - 1 ~ 0.7: 아주 강한 상관관계\n",
    ">             - 0.7 ~ 0.3 : 강한 상관관계\n",
    ">             - 0.3 ~ 0.1 : 약한 상관관계\n",
    ">             - 0.1 ~ 0 : 관계없다."
   ]
  },
  {
   "cell_type": "code",
   "execution_count": null,
   "metadata": {},
   "outputs": [],
   "source": [
    "plt.scatter(df['depth'], df['table'], alpha=0.1)\n",
    "plt.show()"
   ]
  },
  {
   "cell_type": "code",
   "execution_count": null,
   "metadata": {},
   "outputs": [],
   "source": [
    "df[['depth', 'table']].corr()"
   ]
  },
  {
   "cell_type": "markdown",
   "metadata": {},
   "source": [
    "# 막대그래프 (Bar plot) 그리기\n",
    "## 막대그래프(Bar plot)\n",
    "\n",
    "- 수량/값의 크기를 비교하기 위해 막대 형식으로 나타낸 그래프\n",
    "- 범주형 데이터의 class별 개수를 확인할 때 사용\n",
    "- bar(x, height) 메소드 사용\n",
    "    - x : x값, height:  막대 높이\n",
    "        - X는 분류값, height는 개수\n",
    "- barh(y, width) 메소드\n",
    "    - 수평막대 그래프\n",
    "    - 1번인수: y값, 2번인수: 막대 너비  \n",
    "- 매개변수\n",
    "    - 첫번째: 수량을 셀 대상\n",
    "    - 두번째: 수량"
   ]
  },
  {
   "cell_type": "code",
   "execution_count": null,
   "metadata": {},
   "outputs": [],
   "source": [
    "x = ['귤', '사과', '배']\n",
    "y = [100, 40, 70]\n",
    "\n",
    "plt.figure(figsize=(10, 5))\n",
    "# 수직 막대그래프\n",
    "plt.subplot(1, 2, 1)\n",
    "plt.bar(x, y)\n",
    "plt.ylabel(\"수량\")\n",
    "\n",
    "# 수평 막대그래프\n",
    "plt.subplot(1, 2, 2)\n",
    "plt.barh(x, y)\n",
    "plt.xlabel(\"수량\")\n",
    "plt.show()"
   ]
  },
  {
   "cell_type": "code",
   "execution_count": null,
   "metadata": {},
   "outputs": [],
   "source": [
    "df = pd.read_excel(\"data/강수량.xlsx\", index_col=\"계절\")\n",
    "df.shape"
   ]
  },
  {
   "cell_type": "code",
   "execution_count": null,
   "metadata": {},
   "outputs": [],
   "source": [
    "df"
   ]
  },
  {
   "cell_type": "code",
   "execution_count": null,
   "metadata": {},
   "outputs": [],
   "source": [
    "\n",
    "plt.bar(df.index, df[2009])\n",
    "plt.plot(df.index, df[2009], color='red') # 선그래프: 변화 흐름(추세)\n",
    "plt.title(\"2009년 계절별 강수량 비교\")    # 막대그래프: 단순 수량적 비교\n",
    "# 막대의 값들을 출력\n",
    "# text(x위치, y위치, str): (x, y) 위치에 str을 쓴다.\n",
    "for x, y in enumerate(df[2009]):\n",
    "    plt.text(x-0.1, y+5, str(y))\n",
    "plt.ylim(0, 900)  \n",
    "# plt.text(1, 200, \"안녕\") \n",
    "plt.show()"
   ]
  },
  {
   "cell_type": "code",
   "execution_count": null,
   "metadata": {},
   "outputs": [],
   "source": [
    "df.loc['여름']"
   ]
  },
  {
   "cell_type": "code",
   "execution_count": null,
   "metadata": {},
   "outputs": [],
   "source": [
    "## 수평막대그래프\n",
    "# 년도별 여름 강수량 비교\n",
    "plt.barh(df.columns, df.loc['여름'])\n",
    "plt.title(\"년도별 여름 강수량 비교\")\n",
    "\n",
    "plt.yticks(df.columns)\n",
    "plt.show()"
   ]
  },
  {
   "cell_type": "code",
   "execution_count": null,
   "metadata": {},
   "outputs": [],
   "source": []
  },
  {
   "cell_type": "markdown",
   "metadata": {},
   "source": [
    "# 파이차트(Pie chart)\n",
    "- 전체 데이터량에서 각 범주(Category)가 차지하는 비율을 나타내는데 사용\n",
    "- `pie(x, labels)` 이용\n",
    "    - x: 값 (값들을 100을 기준으로 비율을 계산해 크기 설정)\n",
    "    - labels : 값들의 label\n",
    "    - autopct: 조각내에 표시될 비율의 문자열 형식. '%fmt문자' \n",
    "        - fmt문자: f(실수), d(정수), %% (%)\n",
    "- 한국 웹브라우저 점유율을 파이차트로 작성\n",
    "    - https://www.koreanextweb.kr/front/stats/browser/browserUseStats.do"
   ]
  },
  {
   "cell_type": "code",
   "execution_count": null,
   "metadata": {},
   "outputs": [],
   "source": [
    "x = ['귤', '사과', '배']\n",
    "y = [100, 40, 70]\n",
    "plt.pie(y, labels=x, \n",
    "        autopct='%.2f%%',   # 각  pie의 비율 값을 출력. 출력 format을 %타입 placeholder이용: %f: 실수, %d: 정수, %%: %\n",
    "        explode=[0, 0.1, 0], \n",
    "        shadow=True\n",
    "        )  \n",
    "\n",
    "plt.show()"
   ]
  },
  {
   "cell_type": "code",
   "execution_count": null,
   "metadata": {},
   "outputs": [],
   "source": [
    "pd.options.display.max_columns = 22"
   ]
  },
  {
   "cell_type": "code",
   "execution_count": null,
   "metadata": {},
   "outputs": [],
   "source": [
    "!uv pip install xlrd"
   ]
  },
  {
   "cell_type": "code",
   "execution_count": null,
   "metadata": {},
   "outputs": [],
   "source": [
    "# date 를 string으로 읽기\n",
    "df = pd.read_excel(\n",
    "    \"data/webbrowser_share.xls\", \n",
    "    dtype={\"date\": str},  #  {\"컬럼명\": 타입} -> 컬럼을 어떤 타입으로 읽을지 지정.\n",
    "    index_col=\"date\"\n",
    ")\n",
    "df.shape\n",
    "df"
   ]
  },
  {
   "cell_type": "code",
   "execution_count": null,
   "metadata": {},
   "outputs": [],
   "source": [
    "df.info()"
   ]
  },
  {
   "cell_type": "code",
   "execution_count": null,
   "metadata": {},
   "outputs": [],
   "source": [
    "# date 컬럼을 datetime 타입으로 읽어 오기.\n",
    "df2 = pd.read_excel(\n",
    "    \"data/webbrowser_share.xls\", \n",
    "    parse_dates=['date'], # 날짜 타입 컬럼 지정\n",
    "    date_format='%Y.%m',  # 컬럼 값의 형식 지정.\n",
    "    index_col=\"date\"\n",
    ")\n",
    "df2"
   ]
  },
  {
   "cell_type": "code",
   "execution_count": null,
   "metadata": {},
   "outputs": [],
   "source": [
    "# Chrome ~ Firefox, 나머지는 \"기타\" 컬럼으로 처리\n",
    "web_df = df[df.columns[:6]].copy()\n",
    "web_df"
   ]
  },
  {
   "cell_type": "code",
   "execution_count": null,
   "metadata": {},
   "outputs": [],
   "source": [
    "# 나머지 컬럼들의 합계 \n",
    "web_df['기타'] = df[df.columns[6:]].sum(axis=1)\n",
    "web_df"
   ]
  },
  {
   "cell_type": "code",
   "execution_count": null,
   "metadata": {},
   "outputs": [],
   "source": [
    "web_df.iloc[0].sort_values()"
   ]
  },
  {
   "cell_type": "code",
   "execution_count": null,
   "metadata": {
    "scrolled": true
   },
   "outputs": [],
   "source": [
    "## 막대그래프로 2018.08 의 브라우저별 점유율 비교\n",
    "# 수량\n",
    "\n",
    "v = web_df.iloc[0].sort_values()\n",
    "plt.barh(v.index, v)\n",
    "plt.show()"
   ]
  },
  {
   "cell_type": "code",
   "execution_count": null,
   "metadata": {},
   "outputs": [],
   "source": [
    "# 파이차트를 이용해 점유율 시각화\n",
    "plt.pie(web_df.iloc[0], \n",
    "         labels=web_df.columns, \n",
    "         autopct=\"%d%%\",   \n",
    "         explode=[0.1, 0, 0, 0, 0, 0, 0], shadow=True)\n",
    "plt.title(\"2018년 1월 브라우져 점유율\")\n",
    "plt.show()"
   ]
  },
  {
   "cell_type": "markdown",
   "metadata": {},
   "source": [
    "# 히스토그램(Histogram) 그리기\n",
    "## 히스토그램\n",
    "\n",
    "- 도수 분포표를 그래프로 나타낸 것.\n",
    "    - 도수분포표: 연속형 자료를 특정 구간(bin)으로 나눠 그 빈도를 나타낸 표\n",
    "        - 빈도 확인이나 **분포**를 볼때 사용한다.\n",
    "    - X축: 계급(변수구간)의 대표값, Y축: 빈도수\n",
    "- `hist(data [, bins=계급개수)` 메소드를 사용\n",
    "    - data: 리스트형의 객체를 전달한다."
   ]
  },
  {
   "cell_type": "code",
   "execution_count": null,
   "metadata": {},
   "outputs": [],
   "source": [
    "tips = pd.read_csv(\"data/tips.csv\")\n",
    "print(tips.shape)\n",
    "tips.head()"
   ]
  },
  {
   "cell_type": "code",
   "execution_count": null,
   "metadata": {},
   "outputs": [],
   "source": [
    "plt.hist(\n",
    "    tips['tip'], \n",
    "    bins=10, \n",
    "    edgecolor=\"white\"\n",
    ")\n",
    "plt.show()"
   ]
  },
  {
   "cell_type": "code",
   "execution_count": null,
   "metadata": {},
   "outputs": [],
   "source": [
    "pd.cut(tips['tip'], bins=10).value_counts()"
   ]
  },
  {
   "cell_type": "code",
   "execution_count": null,
   "metadata": {},
   "outputs": [],
   "source": [
    "# bin의 간격을 명시적으로 지정.\n",
    "plt.hist(tips['total_bill'], bins=[3, 10, 20, 40, 50, 60], edgecolor=\"w\")\n",
    "plt.show()"
   ]
  },
  {
   "cell_type": "code",
   "execution_count": null,
   "metadata": {},
   "outputs": [],
   "source": [
    "tips.smoker.unique()"
   ]
  },
  {
   "cell_type": "code",
   "execution_count": null,
   "metadata": {},
   "outputs": [],
   "source": [
    "# smoker 여부 별 total_bill의 분포.\n",
    "y_total = tips.query(\"smoker=='Yes'\")['total_bill']\n",
    "n_total = tips.query(\"smoker=='No'\")['total_bill']\n",
    "\n",
    "plt.hist(y_total, bins=10, label=\"yes\", alpha=0.5)\n",
    "plt.hist(n_total, bins=10, label='no', alpha=0.5)\n",
    "plt.xlabel(\"total bill\")\n",
    "plt.ylabel(\"수량\")\n",
    "plt.legend()\n",
    "plt.show()"
   ]
  },
  {
   "cell_type": "markdown",
   "metadata": {},
   "source": [
    "# 상자그래프(Boxplot) 그리기\n",
    "## 상자그래프란\n",
    "- **상자그래프(Box Plot)는** 데이터의 4분위수(quartile)를 기반으로 연속형 변수(continuous variable)의 분포를 요약하고, 이상치를 시각적으로 표현하는 그래프\n",
    "  - 연속형 값들의 중심, 퍼짐(분포), 이상치들을 확인할 수있다.\n",
    "- boxplot(x, whis=1.5)\n",
    "    - x: 데이터셋\n",
    "    - whis: 극단치 계산시 사용할 값(기본 1.5)\n",
    "        - IQR을 이용해 극단치 계산하기\n",
    "            - IQR(Inter Quartile Range): $3분위수 - 1분위수$ 로 중간 50%값의 범위\n",
    "            - 극단적으로 작은값: 1분위 - $IQR(3분위수-1분위수) * whis$   보다 작은 값들\n",
    "            - 극단적으로 큰값: 3분위 + $IQR(3분위수-1분위수) * whis$  보다 큰 값들"
   ]
  },
  {
   "cell_type": "code",
   "execution_count": null,
   "metadata": {
    "scrolled": true
   },
   "outputs": [],
   "source": [
    "# 팁의 4분위수 +  이상치\n",
    "plt.boxplot(tips['tip'], tick_labels=[\"TIP\"])\n",
    "plt.show()"
   ]
  },
  {
   "cell_type": "code",
   "execution_count": null,
   "metadata": {},
   "outputs": [],
   "source": [
    "plt.boxplot(\n",
    "    tips['tip'], \n",
    "    tick_labels=[\"TIP\"], \n",
    "    whis=1 # 정상 범위 조절값. default: 1.5\n",
    ")\n",
    "plt.show()"
   ]
  },
  {
   "cell_type": "code",
   "execution_count": null,
   "metadata": {},
   "outputs": [],
   "source": [
    "# 두개 변수(컬럼)의 분포를 비교\n",
    "## 성별 tip의 분포\n",
    "m_tip = tips.query(\"sex == 'Male'\")['tip']\n",
    "f_tip = tips.query(\"sex == 'Female'\")['tip']\n",
    "plt.boxplot([m_tip, f_tip], tick_labels=['남성', '여성'])\n",
    "plt.show()"
   ]
  },
  {
   "cell_type": "code",
   "execution_count": null,
   "metadata": {},
   "outputs": [],
   "source": []
  }
 ],
 "metadata": {
  "kernelspec": {
   "display_name": "03_시각화",
   "language": "python",
   "name": "python3"
  },
  "language_info": {
   "codemirror_mode": {
    "name": "ipython",
    "version": 3
   },
   "file_extension": ".py",
   "mimetype": "text/x-python",
   "name": "python",
   "nbconvert_exporter": "python",
   "pygments_lexer": "ipython3",
   "version": "3.12.11"
  },
  "toc": {
   "base_numbering": 1,
   "nav_menu": {},
   "number_sections": false,
   "sideBar": true,
   "skip_h1_title": false,
   "title_cell": "Table of Contents",
   "title_sidebar": "Contents",
   "toc_cell": false,
   "toc_position": {
    "height": "calc(100% - 180px)",
    "left": "10px",
    "top": "150px",
    "width": "341.333px"
   },
   "toc_section_display": true,
   "toc_window_display": false
  },
  "varInspector": {
   "cols": {
    "lenName": 16,
    "lenType": 16,
    "lenVar": 40
   },
   "kernels_config": {
    "python": {
     "delete_cmd_postfix": "",
     "delete_cmd_prefix": "del ",
     "library": "var_list.py",
     "varRefreshCmd": "print(var_dic_list())"
    },
    "r": {
     "delete_cmd_postfix": ") ",
     "delete_cmd_prefix": "rm(",
     "library": "var_list.r",
     "varRefreshCmd": "cat(var_dic_list()) "
    }
   },
   "types_to_exclude": [
    "module",
    "function",
    "builtin_function_or_method",
    "instance",
    "_Feature"
   ],
   "window_display": false
  }
 },
 "nbformat": 4,
 "nbformat_minor": 4
}
