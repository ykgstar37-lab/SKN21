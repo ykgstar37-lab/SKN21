{
 "cells": [
  {
   "cell_type": "markdown",
   "metadata": {
    "slideshow": {
     "slide_type": "slide"
    }
   },
   "source": [
    "# Path (경로)\n",
    "\n",
    "- **경로(Path)**\n",
    "    - 프로그램에서 사용할 **자원의 위치를 path(경로)** 라고 한다.\n",
    "    - **파일 시스템**에서는 파일이나 디렉토리가 있는 위치의 경로를 말한다.\n",
    "    "
   ]
  },
  {
   "cell_type": "markdown",
   "metadata": {
    "slideshow": {
     "slide_type": "slide"
    }
   },
   "source": [
    "- **절대경로**\n",
    "    - 자원의 전체 경로를 표현하는 방식\n",
    "    - 시작 경로부터 자원(파일, 디렉토리)이 있는 위치까지 표현한다.\n",
    "        - 시작 경로: Root Path\n",
    "            - windows: `c:`, `d:`\n",
    "            - Unix, Linux: `/`"
   ]
  },
  {
   "cell_type": "markdown",
   "metadata": {
    "slideshow": {
     "slide_type": "fragment"
    }
   },
   "source": [
    "- **상대경로**\n",
    "    - 현재 작업 경로(위치)에서 부터 자원이 있는 위치까지 표현한다.\n",
    "        - 시작 경로: 현재 작업경로\n",
    "    - 구문\n",
    "        - `.` : 현재 디렉토리\n",
    "        - `..`: 상위 디렉토리\n",
    "        - `/` : 경로 구분자,  상위경로/하위경로"
   ]
  },
  {
   "cell_type": "markdown",
   "metadata": {
    "slideshow": {
     "slide_type": "fragment"
    }
   },
   "source": [
    "- 운영체제(O/S)별 경로구분자\n",
    "    - 윈도우즈: `\\` (역슬래쉬)\n",
    "    - 리눅스/유닉스: `/` (슬래쉬)"
   ]
  },
  {
   "cell_type": "code",
   "execution_count": 12,
   "metadata": {
    "slideshow": {
     "slide_type": "fragment"
    }
   },
   "outputs": [
    {
     "data": {
      "text/plain": [
       "'c:/temp'"
      ]
     },
     "execution_count": 12,
     "metadata": {},
     "output_type": "execute_result"
    }
   ],
   "source": [
    "# 파이썬에 경로 지정 -> str\n",
    "# 경로구분자로 `\\` 사용시 r-string을 사용하거나 `\\\\`로 지정\n",
    "'c:\\\\temp'\n",
    "r\"c:\\temp\"\n",
    "\"c:/temp\" #windows 에서도 /를 경로구분자로 쓸 수 있다."
   ]
  },
  {
   "cell_type": "code",
   "execution_count": 13,
   "metadata": {},
   "outputs": [
    {
     "name": "stdout",
     "output_type": "stream",
     "text": [
      "<class 'str'> c:\\Users\\Playdata\\OneDrive - gc.gachon.ac.kr\\바탕 화면\\SKN21\\01_python_basic\n"
     ]
    }
   ],
   "source": [
    "# 현재 작업디렉토리 조회 - python script.py -> 실행한 경로\n",
    "import os # 운영체제가 제공하는 명령어들을 파이썬 코드로 실행하는 함수를 제공하는 표준모듈\n",
    "\n",
    "wd = os.getcwd()\n",
    "print(type(wd), wd)"
   ]
  },
  {
   "cell_type": "code",
   "execution_count": 14,
   "metadata": {},
   "outputs": [],
   "source": [
    "# 디렉토리 생성\n",
    "os.mkdir(\"new_dir\") # new_dir : 상대경로(./ 생략)"
   ]
  },
  {
   "cell_type": "code",
   "execution_count": 15,
   "metadata": {},
   "outputs": [],
   "source": [
    "if not os.path.exists(\"new_dir\"): #new_dir이 있는지 여부\n",
    "    os.mkdir(\"new_dir\") \n"
   ]
  },
  {
   "cell_type": "code",
   "execution_count": 1,
   "metadata": {},
   "outputs": [
    {
     "ename": "NameError",
     "evalue": "name 'os' is not defined",
     "output_type": "error",
     "traceback": [
      "\u001b[31m---------------------------------------------------------------------------\u001b[39m",
      "\u001b[31mNameError\u001b[39m                                 Traceback (most recent call last)",
      "\u001b[36mCell\u001b[39m\u001b[36m \u001b[39m\u001b[32mIn[1]\u001b[39m\u001b[32m, line 3\u001b[39m\n\u001b[32m      1\u001b[39m \u001b[38;5;66;03m# 디렉토리 삭제\u001b[39;00m\n\u001b[32m      2\u001b[39m \u001b[38;5;28;01mtry\u001b[39;00m:\n\u001b[32m----> \u001b[39m\u001b[32m3\u001b[39m     \u001b[43mos\u001b[49m.rmdir(\u001b[33m\"\u001b[39m\u001b[33mnew_dir\u001b[39m\u001b[33m\"\u001b[39m)\n\u001b[32m      4\u001b[39m \u001b[38;5;28;01mexcept\u001b[39;00m \u001b[38;5;167;01mFileNotFoundError\u001b[39;00m:\n\u001b[32m      5\u001b[39m     \u001b[38;5;28mprint\u001b[39m(\u001b[33m\"\u001b[39m\u001b[33m삭제할 경로가 없음\u001b[39m\u001b[33m\"\u001b[39m)\n",
      "\u001b[31mNameError\u001b[39m: name 'os' is not defined"
     ]
    }
   ],
   "source": [
    "# 디렉토리 삭제\n",
    "try:\n",
    "    os.rmdir(\"new_dir\")\n",
    "except FileNotFoundError:\n",
    "    print(\"삭제할 경로가 없음\")"
   ]
  },
  {
   "cell_type": "code",
   "execution_count": null,
   "metadata": {},
   "outputs": [],
   "source": [
    "os.mkdir(\"a/b/c/d\") # 생성할 디렉토리의 위치(a)가 없으면 에러발생"
   ]
  },
  {
   "cell_type": "code",
   "execution_count": null,
   "metadata": {},
   "outputs": [],
   "source": [
    "os.makedirs(\"a/b/c/d\", exist_ok=True)"
   ]
  },
  {
   "cell_type": "code",
   "execution_count": null,
   "metadata": {},
   "outputs": [],
   "source": [
    "# 절대결로: root path로 시작하는 경로\n",
    "r\"c:\\a\\b\\s\" # windows\n",
    "\"/a/b/c\" #linux\n",
    "\n",
    "# 상대경로: 현재 경로에서 시작. Root path로 시작하지 않으면 상대경로\n",
    "\"./a/b/c\" #./ 은 생략 가능\n",
    "\"a/b/c\""
   ]
  },
  {
   "cell_type": "markdown",
   "metadata": {
    "slideshow": {
     "slide_type": "slide"
    }
   },
   "source": [
    "# 입출력 (IO)\n",
    "\n",
    "## 입출력이란\n",
    "- 프로그램이 사용하려는 외부 자원을 연결하여 데이터를 입력 받거나 출력하는 작업을 IO라고 한다.\n",
    "- 외부 자원\n",
    "    - 파일, 원격지 컴퓨터(Network으로 연결된 컴퓨터의 자원), 데이터베이스 등.\n",
    "- **Stream**\n",
    "    - 입출력 시 **데이터의 흐름을 stream** 이라고 한다.\n",
    "- InputStream \n",
    "    - Program이 외부로 부터 데이터를 읽어 들이는 흐름.\n",
    "- OutputStream \n",
    "    - Program이 외부로 데이터를 써주는 흐름.\n",
    "\n",
    "\n",
    "![io](images/ch09_01.png)"
   ]
  },
  {
   "cell_type": "markdown",
   "metadata": {
    "slideshow": {
     "slide_type": "subslide"
    }
   },
   "source": [
    "## IO 코딩 순서\n",
    "![순서](images/ch09_02.png)"
   ]
  },
  {
   "cell_type": "markdown",
   "metadata": {
    "slideshow": {
     "slide_type": "subslide"
    }
   },
   "source": [
    "### 파일 열기(연결)\n",
    "- open() 함수 사용\n",
    "    - 연결된 파일과 입출력 메소드를 제공하는 객체(Stream)를 리턴\n",
    "- 구문\n",
    "    - `open(file, mode='r', encoding=None)`\n",
    "    - 함수 주요 매개변수\n",
    "        - file : 연결할 파일 경로\n",
    "        - encoding \n",
    "            - 입출력 대상이 **텍스트 파일일 경우** 인코딩 방식 설정\n",
    "            - 생략하면  **os 기본 encoding방식을 따른다.**\n",
    "                - Windows: cp949/euckr\n",
    "                - Linux, Unix: utf-8\n",
    "        - mode : 열기 모드\n",
    "            - mode는 목적, 데이터종류를 조합한 문자열을 사용한다.\n",
    "\n",
    "            |mode타입|mode문자|설명|\n",
    "            |:-|-|-|\n",
    "            |목적|r|읽기 모드-목적의 기본 모드|\n",
    "            ||w|새로 쓰기 모드|\n",
    "            ||a|이어 쓰기 모드|\n",
    "            ||x|새로 쓰기모드-연결하려는 파일이 있으면 Exception발생|\n",
    "            |데이터종류|b|binary 모드|\n",
    "            ||t|Text모드-text데이터 입출력시 사용|\n",
    "    "
   ]
  },
  {
   "cell_type": "markdown",
   "metadata": {
    "slideshow": {
     "slide_type": "subslide"
    }
   },
   "source": [
    "### 출력 메소드\n",
    "\n",
    "- write(출력할 Data)\n",
    "    - 연결된 파일에 `출력할 Data` 출력한다.\n",
    "- writelines(문자열을 가진 컬렉션)\n",
    "    - 리스트, 튜플, 집합이 원소로 가진 문자열들을 한번에 출력한다.\n",
    "    - text 출력일 경우에만 사용가능.\n",
    "    - 원소에 문자열 이외의 타입의 값이 있을 경우 TypeError 발생"
   ]
  },
  {
   "cell_type": "code",
   "execution_count": null,
   "metadata": {
    "slideshow": {
     "slide_type": "fragment"
    }
   },
   "outputs": [],
   "source": []
  },
  {
   "cell_type": "markdown",
   "metadata": {
    "slideshow": {
     "slide_type": "slide"
    }
   },
   "source": [
    "### 입력 메소드\n",
    "- read() : 문자열(text mode), bytes(binary mode) \n",
    "    - 연결된 파일의 내용을 한번에 모두 읽어 들인다.\n",
    "- readline() : 문자열(text mode), bytes(binary mode)\n",
    "    - 한 줄만 읽는다.\n",
    "    - text 입력일 경우만 사용가능\n",
    "    - 읽은 라인이 없으면 **빈문자열**을 리턴한다.\n",
    "- readlines() : 리스트\n",
    "    - 한번에 다 읽은 뒤 각각의 라인을 리스트에 원소로 담아 반환한다.\n",
    "- Text Input Stream (TextIOWrapper, BufferedReader)은 Iterable 타입.\n",
    "    - for문을 이용한 라인단위 순차 조회할 수 있다."
   ]
  },
  {
   "cell_type": "code",
   "execution_count": null,
   "metadata": {
    "slideshow": {
     "slide_type": "fragment"
    }
   },
   "outputs": [
    {
     "name": "stdout",
     "output_type": "stream",
     "text": [
      "fw타입: <class '_io.TextIOWrapper'>\n"
     ]
    }
   ],
   "source": [
    "import os\n",
    "# 0. 파일을 저장할 디렉토리 생성\n",
    "# output\n",
    "try:\n",
    "    os.makedirs(\"text\")\n",
    "except:\n",
    "#===== os.makedirs(\"text\", exist_ok=True)\n",
    "\n",
    "# 1. 연결. open(파일경로(상대/절대), mode = \"I or O / Date의 종류-t or b\") \n",
    "# mode: I-r, O-w, a, x\n",
    "\n",
    "   fw =  open(\"text/a.txt\", mode=\"wt\", encoding=\"utf-8\") # encoding: \"utf-8\", \"cp949\" (\"euckr\")\n",
    "   ### mode=\"at\" 이어쓰기로 실행한 만큼 연장됨\n",
    "\n",
    "   print(\"fw타입:\", type(fw))\n",
    "\n",
    "# 2. 쓰기(w), 읽기(r)\n",
    "   fw.write(\"안녕하세용\\n\") # write(str: t모드, bytes: b모드)\n",
    "   fw.write(\"반갑습니당\")\n",
    "\n",
    "   str_list = [\"\\n\\n\\n\", \"aaaaaa\", \"bbb\", \"ccccccc\"]\n",
    "   fw.writelines(str_list)\n",
    "\n",
    "\n",
    "# 3. 연결 닫기(끊기)\n",
    "   fw.close() ## 이를 안했을 경우 파일 탐색기에서 삭제되지 않음"
   ]
  },
  {
   "cell_type": "code",
   "execution_count": 10,
   "metadata": {},
   "outputs": [
    {
     "name": "stdout",
     "output_type": "stream",
     "text": [
      "fr타입: <class '_io.TextIOWrapper'>\n"
     ]
    }
   ],
   "source": [
    "# Input\n",
    "\n",
    "# 1. 연결 (Input은 읽을 파일이 있어야한다)\n",
    "fr = open(\"text/a.txt\", \"rt\", encoding=\"utf-8\")\n",
    "\n",
    "print(\"fr타입:\", type(fr))\n",
    "\n",
    "# 2. 읽기 (input: r모드)\n",
    "txt = fr.read() # text모드 - read():str\n",
    "#### UnicodeDecodeError 발생 -> encoding방식이 틀려서 에러\n",
    "#### utf-8 <-> cp949\n",
    "\n",
    "# 3. 연결 끊기"
   ]
  },
  {
   "cell_type": "code",
   "execution_count": 11,
   "metadata": {},
   "outputs": [
    {
     "name": "stdout",
     "output_type": "stream",
     "text": [
      "안녕하세용\n",
      "반갑습니당\n",
      "\n",
      "\n",
      "aaaaaabbbccccccc\n"
     ]
    }
   ],
   "source": [
    "print(txt)"
   ]
  },
  {
   "cell_type": "code",
   "execution_count": 12,
   "metadata": {},
   "outputs": [
    {
     "name": "stdout",
     "output_type": "stream",
     "text": [
      "['안녕하세용\\n', '반갑습니당\\n', '\\n', '\\n', 'aaaaaabbbccccccc']\n"
     ]
    }
   ],
   "source": [
    "fr = open(\"text/a.txt\", mode=\"rt\", encoding=\"utf-8\")\n",
    "txt_list = fr.readlines() # 라인단위로 읽기\n",
    "print(txt_list)\n",
    "fr.close()"
   ]
  },
  {
   "cell_type": "code",
   "execution_count": null,
   "metadata": {},
   "outputs": [
    {
     "name": "stdout",
     "output_type": "stream",
     "text": [
      "안녕하세용\n",
      "\n",
      "반갑습니당\n",
      "\n",
      "\n",
      "\n",
      "\n",
      "\n",
      "aaaaaabbbccccccc\n",
      "\n",
      "\n"
     ]
    }
   ],
   "source": [
    "fr = open(\"text/a.txt\", mode=\"rt\", encoding=\"utf-8\")\n",
    "print(fr.readline()) # 한줄만 읽기 (처음 enter까지 출력)\n",
    "print(fr.readline())\n",
    "print(fr.readline())\n",
    "print(fr.readline())\n",
    "print(fr.readline())\n",
    "print(fr.readline())\n",
    "print(fr.readline()) # 더이상 읽을 것이 없으면 빈 문자열을 반환\n",
    "fr.close()"
   ]
  },
  {
   "cell_type": "code",
   "execution_count": 17,
   "metadata": {},
   "outputs": [
    {
     "name": "stdout",
     "output_type": "stream",
     "text": [
      "1. 안녕하세용\n",
      "\n",
      "-------------------->3<V\n",
      "2. 반갑습니당\n",
      "\n",
      "-------------------->3<V\n",
      "3. \n",
      "\n",
      "-------------------->3<V\n",
      "4. \n",
      "\n",
      "-------------------->3<V\n",
      "5. aaaaaabbbccccccc\n",
      "-------------------->3<V\n"
     ]
    }
   ],
   "source": [
    "# rt 모드의 TextIOWrapper는 iterable타입 (for in 에서 사용가능 -> 한줄씩 반환)\n",
    "fr = open(\"text/a.txt\", mode=\"rt\", encoding=\"utf-8\")\n",
    "\n",
    "for linenum, s in enumerate(fr, start=1):\n",
    "    print(f\"{linenum}. {s}\")\n",
    "    print(\"-------------------->3<V\")\n",
    "\n",
    "fr.close()"
   ]
  },
  {
   "cell_type": "code",
   "execution_count": null,
   "metadata": {},
   "outputs": [],
   "source": [
    "def open(): \n",
    "    return MyContextManager\n",
    "\n",
    "with open():"
   ]
  },
  {
   "cell_type": "code",
   "execution_count": null,
   "metadata": {},
   "outputs": [
    {
     "name": "stdout",
     "output_type": "stream",
     "text": [
      "init\n",
      "enter\n",
      "--------with block--------\n",
      "exit\n"
     ]
    }
   ],
   "source": [
    "#?????????????????????????????????????????????????????????????\n",
    "class MyContextManager:\n",
    "\n",
    "    # def __init__(self):\n",
    "    #      print(\"init\")\n",
    "\n",
    "    def __enter__(self):\n",
    "         # with 구문 실행 전에 호출 (전처리 작업)\n",
    "         print(\"enter\")\n",
    "\n",
    "    def __exit__(self, exception_type, exception_value, exc_traceback):\n",
    "         # with 구물 종료 후에 호출 (후처리 작업)\n",
    "         print(\"exit\")\n",
    "\n",
    "with MyContextManager():\n",
    "     print(\"--------with block--------\")"
   ]
  },
  {
   "cell_type": "code",
   "execution_count": null,
   "metadata": {},
   "outputs": [
    {
     "name": "stdout",
     "output_type": "stream",
     "text": [
      "1. 안녕하세용\n",
      "\n",
      "--------------------\n",
      "2. 반갑습니당\n",
      "\n",
      "--------------------\n",
      "3. \n",
      "\n",
      "--------------------\n",
      "4. \n",
      "\n",
      "--------------------\n",
      "5. aaaaaabbbccccccc\n",
      "--------------------\n",
      "False\n",
      "True\n"
     ]
    }
   ],
   "source": [
    "with open(\"text/a.txt\", mode=\"rt\", encoding=\"utf-8\") as fr:\n",
    "    for linenum, s in enumerate(fr, start=1):\n",
    "        print(f\"{linenum}. {s}\")\n",
    "        print(\"--------------------\")\n",
    "    print(fr.closed)  # 연결이 끊어졌는지 여부 확인 ##false\n",
    "\n",
    "# with문 나올때 자동으로 close 됨\n",
    "print(fr.closed) ##true"
   ]
  },
  {
   "cell_type": "code",
   "execution_count": null,
   "metadata": {},
   "outputs": [],
   "source": []
  },
  {
   "cell_type": "markdown",
   "metadata": {
    "slideshow": {
     "slide_type": "slide"
    }
   },
   "source": [
    "## with block\n",
    "\n",
    "파일과 입출력 작업이 다 끝나면 반드시 연결을 닫아야 한다. 매번 연결을 닫는 작업을 하는 것이 번거롭고 실수로 안 닫을 경우 문제가 생길 수 있다. **with block은 block을 벗어나면 자동으로 연결을 닫아 준다.** 그래서 연결을 닫는 코드를 생략할 수 있다.\n",
    "\n",
    "- 구문\n",
    "```python\n",
    "with open() as 변수: # `변수`는 open()이 반환하는 Stream객체를 참조한다.\n",
    "    입출력 작업      # 변수를 이용해 입출력 작업을 처리한다.\n",
    "# with block을 빠져 나오면 close()가 자동으로 실행된다.\n",
    "```"
   ]
  },
  {
   "cell_type": "code",
   "execution_count": null,
   "metadata": {
    "slideshow": {
     "slide_type": "fragment"
    }
   },
   "outputs": [],
   "source": []
  },
  {
   "cell_type": "markdown",
   "metadata": {},
   "source": [
    "# Binary Data 입출력\n",
    "\n",
    "## `bytes` type\n",
    "binary 데이터를 입출력하기 위한 타입.  \n",
    "파이썬의 하나의 출력함수로 다양한 데이터타입의 값을 출력하기 위해 **bytes 타입으로 변환** 해야 한다. \n",
    "또 binary 데이터를 읽을 경우 **bytes 타입**으로 반환한다. 이것을 저장 전 원래 타입으로 쓰기 위해서는 bytes에서 원래 타입으로 변환하는 작업이 필요하다. \n",
    "\n",
    "![img](images/ch10_03.png)\n"
   ]
  },
  {
   "cell_type": "code",
   "execution_count": null,
   "metadata": {},
   "outputs": [],
   "source": []
  },
  {
   "cell_type": "markdown",
   "metadata": {
    "slideshow": {
     "slide_type": "slide"
    }
   },
   "source": [
    "## pickle 모듈을 이용한 객체 직렬화\n",
    "- pickle 모듈: binary data 입출력을 도와주는 표준 라이브러리.\n",
    "\n",
    "### 객체 직렬화(Object Serialization)\n",
    "- 객체의 속성값들을 bytes로 변환해 출력하는 것을 객체 직렬화(Object Serialization) 이라고 한다.\n",
    "- bytes로 출력된 데이터를 읽어 객체화 하는 것을 객체 역직렬화(Object Deserialization) 이라고 한다."
   ]
  },
  {
   "cell_type": "markdown",
   "metadata": {
    "slideshow": {
     "slide_type": "fragment"
    }
   },
   "source": [
    "### pickle 모듈\n",
    "- binary 모드로 출력하거나 입력받을 경우 **bytes**  타입으로 입출력을 진행한다.\n",
    "    - 그런데 각각의 타입이 변환하는 방식이 다르기때문에 입출력 코드가 복잡해 지는 문제가 있다. 이것을 추상화해서 binary 데이터 입출력을 쉽게 처리할 수 있게하는 표준모듈이 pickle이다.\n",
    "    - 파이썬의 모든 값은 객체 이므로 pickle은 객체 직렬화, 역직렬화를 위한 파이썬 표준모듈이다.\n",
    "\n",
    "- 저장시 파일 확장자는 보통 `pkl` 이나 `pickle` 로 한다.\n",
    "- ex)\n",
    "```python\n",
    "#### binary mode로 설정한다.\n",
    "fw = open(\"data.pkl\", \"wb\") # 객체를 pickle에 저장하기 위한 output stream 생성\n",
    "fr = open(\"data.pkl\", \"rb\") # 파일에 저장된 객체를 읽어오기 위한 input stream 생성\n",
    "```\n",
    "- **메소드**\n",
    "    - dump(저장할 객체, fw) : 출력\n",
    "    - load(fr): 입력 - 읽은 객체를 반환한다."
   ]
  },
  {
   "cell_type": "code",
   "execution_count": null,
   "metadata": {
    "slideshow": {
     "slide_type": "fragment"
    }
   },
   "outputs": [],
   "source": [
    "import pickle\n",
    "\n",
    "i = 1_000_000\n",
    "#binary를 파일에 출력\n",
    "with open(\"text/int_data.pickle\", \"wb\") as fo:\n",
    "    # print(type(fo))\n",
    "    # fo.write(i) #int - 변환 -> bytes\n",
    "    pickle.dump(i, fo) # i를 bytes로 변환 -> fo.write()를 이용해서 출력"
   ]
  },
  {
   "cell_type": "code",
   "execution_count": null,
   "metadata": {},
   "outputs": [],
   "source": [
    "with open(\"text/int_data.pickle\", \"rd\") as fi:\n",
    "    # print(type(fi))\n",
    "    # b = fi.read()\n",
    "    # print(type(b))\n",
    "    load_i = pickle.load(fi) # fi에서 bytew들을 road -> 원래 타입(int)로 변환\n",
    "\n",
    "print(type(load_i), load_i)"
   ]
  },
  {
   "cell_type": "code",
   "execution_count": null,
   "metadata": {},
   "outputs": [],
   "source": [
    "person_info = {\n",
    "    \"이름\":\"홍길동\",\n",
    "    \"나이\":20,\n",
    "    \"주소\":서울\n",
    "    \"혈액형\":\"A형\"\n",
    "}\n",
    "with open(\"text/person.pickle\", \"wb\") as fo:\n",
    "    pickle.dump(person_info, fo)"
   ]
  },
  {
   "cell_type": "code",
   "execution_count": null,
   "metadata": {},
   "outputs": [],
   "source": [
    "with open(\"text/person.pickle\", \"rb\") as fi:\n",
    "    new_person_info = pickle.load(fi)\n",
    "\n",
    "print(type(new_person_info))\n",
    "new_person_info"
   ]
  },
  {
   "cell_type": "markdown",
   "metadata": {
    "slideshow": {
     "slide_type": "skip"
    }
   },
   "source": [
    "# TODO"
   ]
  },
  {
   "cell_type": "markdown",
   "metadata": {
    "slideshow": {
     "slide_type": "skip"
    }
   },
   "source": [
    "- ## 간단한 CLI 기반 메모장\n",
    "    1. 사용자로부터 파일명을 입력받는다.\n",
    "    2. 사용자로부터 파일에 저장할 문장을 입력받아서 파일에 저장한다.\n",
    "        - 한줄씩 입력받는다.\n",
    "        - 사용자가 !q 를 입력하면 저장후 종료한다.\n",
    "    3. 사용자가 저장한 파일을 읽어서 출력한다.\n"
   ]
  },
  {
   "cell_type": "code",
   "execution_count": null,
   "metadata": {
    "slideshow": {
     "slide_type": "skip"
    }
   },
   "outputs": [],
   "source": []
  }
 ],
 "metadata": {
  "kernelspec": {
   "display_name": "Python 3",
   "language": "python",
   "name": "python3"
  },
  "language_info": {
   "codemirror_mode": {
    "name": "ipython",
    "version": 3
   },
   "file_extension": ".py",
   "mimetype": "text/x-python",
   "name": "python",
   "nbconvert_exporter": "python",
   "pygments_lexer": "ipython3",
   "version": "3.13.7"
  },
  "toc": {
   "base_numbering": 1,
   "nav_menu": {},
   "number_sections": true,
   "sideBar": true,
   "skip_h1_title": false,
   "title_cell": "Table of Contents",
   "title_sidebar": "Contents",
   "toc_cell": false,
   "toc_position": {},
   "toc_section_display": true,
   "toc_window_display": false
  },
  "varInspector": {
   "cols": {
    "lenName": 16,
    "lenType": 16,
    "lenVar": 40
   },
   "kernels_config": {
    "python": {
     "delete_cmd_postfix": "",
     "delete_cmd_prefix": "del ",
     "library": "var_list.py",
     "varRefreshCmd": "print(var_dic_list())"
    },
    "r": {
     "delete_cmd_postfix": ") ",
     "delete_cmd_prefix": "rm(",
     "library": "var_list.r",
     "varRefreshCmd": "cat(var_dic_list()) "
    }
   },
   "types_to_exclude": [
    "module",
    "function",
    "builtin_function_or_method",
    "instance",
    "_Feature"
   ],
   "window_display": false
  }
 },
 "nbformat": 4,
 "nbformat_minor": 4
}
