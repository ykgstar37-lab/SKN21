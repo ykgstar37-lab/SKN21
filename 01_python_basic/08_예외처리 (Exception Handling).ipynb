{
 "cells": [
  {
   "cell_type": "code",
   "execution_count": null,
   "metadata": {},
   "outputs": [],
   "source": [
    "1 / 0 Esception -> 처리 -> 정상화"
   ]
  },
  {
   "cell_type": "markdown",
   "metadata": {
    "slideshow": {
     "slide_type": "slide"
    }
   },
   "source": [
    "# 오류\n",
    "\n",
    "- 함수나 메소드가 처리 도중 다음 명령문을 실행할 수 없는 상황\n",
    "- 오류 중 처리가능한 것을 Exception(예외) 라고 한다. 그리고 그 예외를 처리하는 것을 Exception Handling 이라고 한다.\n",
    "\n",
    "![개요](images/ch08_01.png)\n"
   ]
  },
  {
   "cell_type": "markdown",
   "metadata": {
    "slideshow": {
     "slide_type": "slide"
    }
   },
   "source": [
    "## 오류의 종류\n",
    "- **처리가능 한 오류**\n",
    "    - 실행 환경의 문제로 발생하는 오류\n",
    "        - 사용자가 매뉴얼대로 실행하지 않았거나 잘못된 환경에서 실행한 경우.  \n",
    "    - 코드작성 할 때는 실행시 Exception 발생 할지 여부를 알 수 없다.\n",
    "    - 만약 발생할 경우 어떻게 처리할지를 구현해야 한다.\n",
    "- **수정해야 하는 오류**\n",
    "    - 코드 상 100% 발생하는 오류\n",
    "    - 코드를 잘못 작성한 경우로 코드를 수정해야한다.\n",
    "    - 보통 이런 오류는 컴파일 방식 언어의 경우 컴파일 때 에러를 내서 수정하도록 한다.\n"
   ]
  },
  {
   "cell_type": "code",
   "execution_count": null,
   "metadata": {
    "slideshow": {
     "slide_type": "fragment"
    }
   },
   "outputs": [],
   "source": []
  },
  {
   "cell_type": "markdown",
   "metadata": {
    "slideshow": {
     "slide_type": "slide"
    }
   },
   "source": [
    "## Exception handling\n",
    "Exception이 발생되어 프로그램이 더 이상 실행될 수 없는 상황을 처리(handling)해서 정상화 시키는 작업을 말한다.  \n",
    "try - except 구문을 이용해 처리한다."
   ]
  },
  {
   "cell_type": "markdown",
   "metadata": {
    "slideshow": {
     "slide_type": "fragment"
    }
   },
   "source": [
    "###  try, except 구문\n",
    "\n",
    "```python\n",
    "try:\n",
    "    Exception 발생가능한 정상흐름의 코드 블록\n",
    "except [Exception클래스 이름 [as 변수]] :\n",
    "    처리 코드   \n",
    "```"
   ]
  },
  {
   "cell_type": "markdown",
   "metadata": {
    "slideshow": {
     "slide_type": "fragment"
    }
   },
   "source": [
    "- **try block**\n",
    "    - 정상흐름의 코드에서 Exception 발생 가능성 있는 코드와 그 코드와 연결된 코드들을 블록으로 묶는다.\n",
    "        - 연결된 코드란 Exception이 발생 안해야만 실행되는 코드를 말한다.\n",
    "- **except block**\n",
    "    - 발생한 Exception을 처리하는 코드 블록을 작성한다.\n",
    "        - try block의 코드를 실행하다 exception이 발생하면 except block이 실행된다. Exception이 발생하지 않으면 실행되지 않는다.\n",
    "    - try block에서 발생한 모든 Exception을 처리하는 경우 `except:` 로 선언한다.\n",
    "    - try block에서 발생한 특정 Exception만 따로 처리할 경우 `except Exception클래스 이름` 을 선언한다.\n",
    "        - 모든 Exception들은 클래스로 정의 되어 있다. 그 클래스 이름을 적어준다.\n",
    "        - **Exception 들 별로 각각 처리할 수 있으면 이 경우 except 구문(처리구문)을 연속해서 작성하면 된다.**\n",
    "    - try block에서 발생한 특정 Exception만 따로 처리하고 그 Exception이 왜 발생했는지 등의 정보를 사용할 경우 `except Exception 클래스 이름 as 변수명` 으로 선언하고 변수명을 이용해 정보를 조회한다.\n",
    "        "
   ]
  },
  {
   "cell_type": "code",
   "execution_count": null,
   "metadata": {
    "slideshow": {
     "slide_type": "fragment"
    }
   },
   "outputs": [
    {
     "name": "stdout",
     "output_type": "stream",
     "text": [
      "시작\n",
      "예외발생함..계산실패...\n",
      "종료\n"
     ]
    }
   ],
   "source": [
    "# 1->2->3->4->5 : 정상흐름\n",
    "print(\"시작\")                  # 1번째 \n",
    "\n",
    "try:\n",
    "    num = int(input(\"정수: \")) # 2번째 -Exception 가능성있는 코드\n",
    "    result = 10 / num          # 3번째 -Exception 가능성있는 코드\n",
    "    print(result)              # 4번째\n",
    "\n",
    "except:\n",
    "    # try에서 어떤 Exception이 발생하든 같은 방법으로 처리\n",
    "    print(\"예외발생함..계산실패...\")\n",
    "\n",
    "\n",
    "\n",
    "\n",
    "print(\"종료\")                  # 5번째"
   ]
  },
  {
   "cell_type": "code",
   "execution_count": null,
   "metadata": {},
   "outputs": [
    {
     "name": "stdout",
     "output_type": "stream",
     "text": [
      "시작\n",
      "ZeroDivisionError: 0으로 나눌 수 없다\n",
      "종료\n"
     ]
    }
   ],
   "source": [
    "# 1->2->3->4->5 : 정상흐름.\n",
    "print(\"시작\")                  # 1번째 \n",
    "\n",
    "try:\n",
    "    num = int(input(\"정수: \")) # 2번째 -Exception 가능성있는 코드 (ValueError)\n",
    "    result = 10 / num          # 3번째 -Exception 가능성있는 코드 (ZeroDivisionError)\n",
    "    print(result)              # 4번째\n",
    "    print(name)                # NameError\n",
    "except ValueError:\n",
    "    print(\"ValueError: 정수가 아닌 값이 입력됨\")\n",
    "except ZeroDivisionError:\n",
    "    print(\"ZeroDivisionError: 0으로 나눌 수 없다\")\n",
    "except:\n",
    "    print(\"문제발생\")           # 위 두개를 제외한 나머지 Exception을 처리\n",
    "\n",
    "\n",
    "\n",
    "print(\"종료\")                   # 5번째"
   ]
  },
  {
   "cell_type": "markdown",
   "metadata": {
    "slideshow": {
     "slide_type": "subslide"
    }
   },
   "source": [
    "### finally 구문\n",
    "\n",
    "- 예외 발생여부, 처리 여부와 관계없이 무조건 실행되는 코드블록\n",
    "    - try 구문에 **반드시 실행되야 하는 코드블록을 작성할때 사용한다.**\n",
    "    - 보통 프로그램이 외부자원과 연결해서 데이터를 주고 받는 작업을 할때 마지막 연결을 종료하는 작업을 finally 블록에 넣는다.\n",
    "- finally 는 except 보다 먼저 올 수 없다.\n",
    "    - 구문순서\n",
    "        1. try - except - finally\n",
    "        1. try - except\n",
    "        1. try - finally"
   ]
  },
  {
   "cell_type": "code",
   "execution_count": 1,
   "metadata": {
    "slideshow": {
     "slide_type": "fragment"
    }
   },
   "outputs": [
    {
     "name": "stdout",
     "output_type": "stream",
     "text": [
      "except\n",
      "finally\n",
      "끝\n"
     ]
    }
   ],
   "source": [
    "try:\n",
    "    i= 1 / 0\n",
    "except:\n",
    "    print(\"except\")\n",
    "finally:\n",
    "    print(\"finally\")\n",
    "\n",
    "print(\"끝\")\n",
    "\n",
    "###### Exception이 나든 안나든 finally 구문은 출력 ######"
   ]
  },
  {
   "cell_type": "code",
   "execution_count": 2,
   "metadata": {},
   "outputs": [
    {
     "name": "stdout",
     "output_type": "stream",
     "text": [
      "에러\n",
      "1.0\n",
      "무조건\n"
     ]
    }
   ],
   "source": [
    "try:\n",
    "    a = 10 / 0\n",
    "    print(a)\n",
    "except:\n",
    "    print(\"에러\")\n",
    "    a = 10 / 10\n",
    "    print(a)\n",
    "else:\n",
    "    print(a)\n",
    "finally:\n",
    "    print(\"무조건\")"
   ]
  },
  {
   "cell_type": "markdown",
   "metadata": {
    "slideshow": {
     "slide_type": "slide"
    }
   },
   "source": [
    "## Exception 발생 시키기\n",
    "- 함수나 메소드가 더이상 작업을 진행 할 수 없는 조건이 되면 Exception을 강제로 발생시킨다."
   ]
  },
  {
   "attachments": {},
   "cell_type": "markdown",
   "metadata": {
    "slideshow": {
     "slide_type": "slide"
    }
   },
   "source": [
    "### Call Stack Mechanism\n",
    "- 프로그램 실행환경이 함수 호출을 관리하는 방법\n",
    "- 함수호출을 stack 구조를 이용해 관리한다.\n",
    "    - stack구조는 first-in last-out 의 구조이다.\n",
    "    - 함수는 호출되는 순서대로 쌓이고 가장 나중에 호출된 함수가 먼저 종료된다. \n",
    "    - ![image.png](images/stack.png)\n",
    "- 호출되어 실행 중인 함수에서 Exception이 발생해도 마찮가지로 호출된 반대 순서대로 종료된다.\n",
    "    - 발생한 Exception은 처리를 하지 않으면 caller에게 전달된다.\n",
    "        - 발생한 Exception에 대한 처리가 모든 caller에서 안되면 결국 파이썬 실행환경까지 전달되어 프로그램은 비정상적으로 종료 되게 된다."
   ]
  },
  {
   "cell_type": "code",
   "execution_count": null,
   "metadata": {},
   "outputs": [],
   "source": []
  },
  {
   "cell_type": "markdown",
   "metadata": {
    "slideshow": {
     "slide_type": "subslide"
    }
   },
   "source": [
    "### raise 구문\n",
    "- Exception을 강제로 발생시킨다.\n",
    "    - 업무 규칙을 어겼거나 다음 명령문을 실행할 수 없는 조건이 되면 진행을 멈추고 caller로 요청에게 작업을 처리 못했음을 알리며 돌아가도록 할때 exception을 발생시킨다.\n",
    "    - 구문\n",
    "    ```python\n",
    "        raise Exception객체\n",
    "    ```\n",
    "- **raise와 return**\n",
    "    - 함수나 메소드에서 return과 raise 구문이 실행되면 모두 caller로 돌아간다.\n",
    "    - return은 정상적으로 끝나서 돌아가는 의미이다. 그래서 처리결과가 있으면 그 값을 가지고 돌아간다.\n",
    "        - caller는 그 다음작업을 이어서 하면 된다.\n",
    "    - raise는 실행도중 문제(Exception)가 생겨 비정상적으로 끝나서 돌아가는 의미이다. 그래서 비정상적인 상황 정보를 가지는 Exception객체를 반환값으로 가지고 돌아간다.\n",
    "        - caller는 try - except구문으로 발생한 exception을 처리하여 프로그램을 정상화 하거나 자신도 caller에게 exception을 발생시키는 처리를 한다.\n",
    "        "
   ]
  },
  {
   "cell_type": "code",
   "execution_count": null,
   "metadata": {
    "slideshow": {
     "slide_type": "fragment"
    }
   },
   "outputs": [],
   "source": [
    "def divide(num1. num2):\n",
    "    \"\"\"\n",
    "    함수 설명\n",
    "    Args:\n",
    "        파라미터설명\n",
    "    Returns:\n",
    "        리턴값 설명\n",
    "    Raises:\n",
    "        Exception: 파라미터 num2가 0인 경우 발생\n",
    "        \n",
    "    \"\"\"\n",
    "\n",
    "    if num2 == 0:\n",
    "        print(\"0으로 못나눔\")\n",
    "        #return xxxxxxxxx\n",
    "        raise Exception(\"0으로 못나눔\")\n",
    "    \n",
    "\n",
    "    return num1 / num2"
   ]
  },
  {
   "cell_type": "code",
   "execution_count": null,
   "metadata": {},
   "outputs": [],
   "source": [
    "try:\n",
    "    result = divide(10, 0)\n",
    "    result2 = result + 20\n",
    "    print(\"최종결과:\", result2)\n",
    "except Exception as e:\n",
    "    print(\"계산실패:\", e)\n",
    "\n",
    "print(\"종료\") "
   ]
  },
  {
   "cell_type": "markdown",
   "metadata": {},
   "source": [
    "\n",
    "### 사용자 정의 Exception 클래스 구현\n",
    "\n",
    "- 파이썬은 Exception 상황을 클래스로 정의해 사용한다.\n",
    "    - Exception이 발생하는 상황과 관련된 attribute들과 메소드들을 정의한 클래스\n",
    "    \n",
    "- 구현\n",
    "    - `Exception` 클래스를 **상속받는다.**\n",
    "    - 클래스 이름은 Exception 상황을 설명할 수 있는 이름을 준다.\n",
    "    "
   ]
  },
  {
   "cell_type": "code",
   "execution_count": null,
   "metadata": {},
   "outputs": [],
   "source": [
    "# 잘못된 월(1 ~ 12가 아닌 값)을때 발생시킬 Exception을 정의\n",
    "class InvalidMonthValueError(Exception):\n",
    "    def __init__(self, invalid_month, message):\n",
    "        # super().__init__(message)\n",
    "        self.message = message\n",
    "        self.invalid_month = invalid_month\n",
    "\n",
    "    def __str__(self):\n",
    "        return f\"에러메세지: {self.message}, 잘못된 월: {self.invalid_month}\""
   ]
  },
  {
   "cell_type": "code",
   "execution_count": 12,
   "metadata": {},
   "outputs": [],
   "source": [
    "def save_month(month:int):\n",
    "    if month < 1 or month > 12:\n",
    "        raise InvalidMonthValueError(month, \"잘못된 월입니다\")\n",
    "    print(f\"{month}를 저장했습니다\")\n",
    "\n",
    "def save_day(day:int):\n",
    "\n",
    "    print(f\"{day}를 저장했습니다\")"
   ]
  },
  {
   "cell_type": "code",
   "execution_count": 13,
   "metadata": {},
   "outputs": [
    {
     "name": "stdout",
     "output_type": "stream",
     "text": [
      "날짜 저장 실패.. 에러메세지: 잘못된 월입니다, 잘못된 월: 30\n"
     ]
    }
   ],
   "source": [
    "try:\n",
    "    save_month(30)\n",
    "    save_day(20)\n",
    "except InvalidMonthValueError as e:\n",
    "    print(\"날짜 저장 실패..\", e)"
   ]
  },
  {
   "cell_type": "code",
   "execution_count": null,
   "metadata": {},
   "outputs": [],
   "source": [
    "##### return하고 except의 차이"
   ]
  }
 ],
 "metadata": {
  "kernelspec": {
   "display_name": "Python 3",
   "language": "python",
   "name": "python3"
  },
  "language_info": {
   "codemirror_mode": {
    "name": "ipython",
    "version": 3
   },
   "file_extension": ".py",
   "mimetype": "text/x-python",
   "name": "python",
   "nbconvert_exporter": "python",
   "pygments_lexer": "ipython3",
   "version": "3.13.7"
  },
  "toc": {
   "base_numbering": 1,
   "nav_menu": {},
   "number_sections": true,
   "sideBar": true,
   "skip_h1_title": false,
   "title_cell": "Table of Contents",
   "title_sidebar": "Contents",
   "toc_cell": false,
   "toc_position": {},
   "toc_section_display": true,
   "toc_window_display": false
  },
  "varInspector": {
   "cols": {
    "lenName": 16,
    "lenType": 16,
    "lenVar": 40
   },
   "kernels_config": {
    "python": {
     "delete_cmd_postfix": "",
     "delete_cmd_prefix": "del ",
     "library": "var_list.py",
     "varRefreshCmd": "print(var_dic_list())"
    },
    "r": {
     "delete_cmd_postfix": ") ",
     "delete_cmd_prefix": "rm(",
     "library": "var_list.r",
     "varRefreshCmd": "cat(var_dic_list()) "
    }
   },
   "types_to_exclude": [
    "module",
    "function",
    "builtin_function_or_method",
    "instance",
    "_Feature"
   ],
   "window_display": false
  }
 },
 "nbformat": 4,
 "nbformat_minor": 4
}
