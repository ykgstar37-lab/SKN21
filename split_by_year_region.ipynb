{
 "cells": [
  {
   "cell_type": "markdown",
   "id": "786675eb",
   "metadata": {},
   "source": [
    "# 연도별 / 지역별 분할 및 피벗 생성\n",
    "\n",
    "이 노트북은 CSV 파일을 읽어 `year`(또는 `date`에서 파싱)와 `region`(또는 유사 컬럼)을 기준으로 데이터를 분할하고, 각 그룹별로 CSV를 저장하며 연도×지역 피벗 테이블을 생성해 보여줍니다."
   ]
  },
  {
   "cell_type": "code",
   "execution_count": null,
   "id": "34155e91",
   "metadata": {},
   "outputs": [],
   "source": [
    "import pandas as pd\n",
    "from pathlib import Path\n",
    "import os\n",
    "\n",
    "# 파일 경로 수정하세요\n",
    "file_path = 'C:/Users/Playdata/OneDrive - gc.gachon.ac.kr/바탕 화면/1st_data/119car.csv'\n",
    "p = Path(file_path)\n",
    "print('Exists:', p.exists())\n",
    "\n",
    "# CSV 읽기 (encoding='cp949'로 default 읽기 시도)\n",
    "try:\n",
    "    df = pd.read_csv(file_path, encoding='cp949')\n",
    "    used_enc = 'cp949'\n",
    "except Exception:\n",
    ",\n",
    "\n",
    ": \n",
    ",\n",
    ": { \n",
    ": \n",
    " },\n",
    ": [\n",
    ",\n",
    ","
   ]
  },
  {
   "cell_type": "code",
   "execution_count": null,
   "id": "3c6fb6d9",
   "metadata": {},
   "outputs": [],
   "source": [
    "print('연도 후보:', cands_year)\n",
    "print('지역 후보:', cands_region)\n",
    "\n",
    "# 자동 선택: 후보가 하나면 그걸 사용, 없으면 사용자 입력 필요\n",
    "year_col = cands_year[0] if len(cands_year)==1 else None\n",
    "region_col = cands_region[0] if len(cands_region)==1 else None\n",
    "\n",
    "print('선택된 year_col =', year_col)\n",
    "print('선택된 region_col =', region_col)\n",
    "\n",
    "# 필요시 사용자가 컬럼명을 직접 설정하세요\n",
    "# year_col = '연도'\n",
    "# region_col = '지역'"
   ]
  },
  {
   "cell_type": "code",
   "execution_count": null,
   "id": "f8394f98",
   "metadata": {},
   "outputs": [],
   "source": [
    "# 연도 컬럼 파싱: 만약 year_col이 날짜형이 아닌 문자열/숫자일 수 있으므로 안전하게 처리\n",
    "if year_col is None:\n",
    ": \n",
    ",\n",
    ": { \n",
    ": \n",
    " },\n",
    ": [\n",
    ",\n",
    ",\n",
    ",\n",
    ",\n",
    ",\n",
    ",\n",
    "data_{y}_{safe_r}.csv"
   ]
  },
  {
   "cell_type": "code",
   "execution_count": null,
   "id": "bf93dcfe",
   "metadata": {},
   "outputs": [],
   "source": [
    "# 피벗 생성 예: 각 연도×지역별 행 수를 피벗으로 표시\n",
    "if '__year' in df.columns and '__region' in df.columns:"
   ]
  }
 ],
 "metadata": {
  "language_info": {
   "name": "python"
  }
 },
 "nbformat": 4,
 "nbformat_minor": 5
}
