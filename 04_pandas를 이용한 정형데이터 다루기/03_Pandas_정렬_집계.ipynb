{
 "cells": [
  {
   "cell_type": "markdown",
   "metadata": {
    "slideshow": {
     "slide_type": "slide"
    }
   },
   "source": [
    "# 정렬\n",
    "\n",
    "## index이름, column 이름을 기준으로 정렬\n",
    "\n",
    "-   <b style='font-size:1.2em'>sort_index(axis=0, ascending=True, inplace=False)</b>\n",
    "    -   axis\n",
    "        -   index 이름 기준 정렬(행) : 'index' 또는 0 (기본값)\n",
    "        -   column 이름 기준 정렬(열) : 'columns' 또는 1\n",
    "    -   ascending\n",
    "        -   정렬방식\n",
    "        -   True(기본): 오름차순, False: 내림차순\n",
    "    -   inplace\n",
    "        -   원본에 적용 여부\n",
    "        -   False(기본): 변경한 복사본 반환\n",
    "        -   True : 원본을 변경\n",
    "-   Index name을 정렬하면 앞의 몇글자만 가지고 slicing을 할 수 있다.\n",
    "    -   ex) A로 시작하는 것에서 C로 시작하는 것 까지\n",
    "    -   단 결측치(NA) 값이 index name에 있으면 안된다.\n"
   ]
  },
  {
   "cell_type": "code",
   "execution_count": null,
   "metadata": {},
   "outputs": [],
   "source": [
    "import pandas as pd\n",
    "import numpy as np"
   ]
  },
  {
   "cell_type": "code",
   "execution_count": null,
   "metadata": {},
   "outputs": [],
   "source": [
    "df = pd.read_csv(\"data/movie.csv\", index_col=\"movie_title\")\n",
    "df.shape"
   ]
  },
  {
   "cell_type": "code",
   "execution_count": null,
   "metadata": {},
   "outputs": [],
   "source": [
    "# 컬럼 이름을 기준으로 정렬\n",
    "df.sort_index(axis=1)"
   ]
  },
  {
   "cell_type": "code",
   "execution_count": null,
   "metadata": {},
   "outputs": [],
   "source": [
    "#내림차순\n",
    "df.sort_index(axis=1, ascending=False) "
   ]
  },
  {
   "cell_type": "code",
   "execution_count": null,
   "metadata": {},
   "outputs": [],
   "source": [
    "# index name (행 이름) 기준 정렬\n",
    "df.sort_index()"
   ]
  },
  {
   "cell_type": "code",
   "execution_count": null,
   "metadata": {},
   "outputs": [],
   "source": [
    "# 내림차순\n",
    "df.sort_index(ascending=False)"
   ]
  },
  {
   "cell_type": "code",
   "execution_count": null,
   "metadata": {
    "scrolled": true
   },
   "outputs": [],
   "source": [
    "# method chain을 이용해 행, 열 이름으로 정렬\n",
    "df.sort_index().sort_index(axis=1)"
   ]
  },
  {
   "cell_type": "code",
   "execution_count": null,
   "metadata": {},
   "outputs": [],
   "source": [
    "# 행이름 정렬 후 시작부분일치 slicing 조회\n",
    "df.head(10)"
   ]
  },
  {
   "cell_type": "code",
   "execution_count": null,
   "metadata": {},
   "outputs": [],
   "source": [
    "df.loc['Avatar':'John Carter']"
   ]
  },
  {
   "cell_type": "code",
   "execution_count": null,
   "metadata": {},
   "outputs": [],
   "source": [
    "df2 = df.sort_index() # 행 정렬"
   ]
  },
  {
   "cell_type": "code",
   "execution_count": null,
   "metadata": {},
   "outputs": [],
   "source": [
    "df2.loc['A' : 'Jb']  # A ~ J전까지 "
   ]
  },
  {
   "cell_type": "markdown",
   "metadata": {
    "slideshow": {
     "slide_type": "subslide"
    }
   },
   "source": [
    "## 특정 컬럼(열)의 값을 기준으로 정렬\n",
    "\n",
    "-   <b style='font-size:1.2em'>sort_values(by, ascending, inplace)</b>\n",
    "    -   by\n",
    "        -   **정렬 기준 컬럼이름**을 문자열로 지정\n",
    "        -   여러 컬럼에 대해 정렬할 경우 리스트에 담아 전달\n",
    "    -   ascending\n",
    "        -   정렬방식\n",
    "        -   True(기본): 오름차순, False: 내림차순\n",
    "        -   여러 컬럼에 대해 정렬할 경우 정렬방식도 리스트에 담아 전달\n",
    "    -   inplace\n",
    "        -   원본에 적용 여부\n",
    "        -   False(기본): 변경한 복사본 반환\n",
    "        -   True : 원본을 변경\n",
    "    -   결측치는 방식과 상관없이 마지막에 나온다.\n"
   ]
  },
  {
   "cell_type": "code",
   "execution_count": null,
   "metadata": {},
   "outputs": [],
   "source": [
    "df.sort_values(by=\"duration\").head(10)"
   ]
  },
  {
   "cell_type": "code",
   "execution_count": null,
   "metadata": {},
   "outputs": [],
   "source": [
    "df.sort_values('director_name', ascending=False).head(10) "
   ]
  },
  {
   "cell_type": "code",
   "execution_count": null,
   "metadata": {},
   "outputs": [],
   "source": [
    "df.sort_values(by=[\"duration\", \"movie_facebook_likes\"])[[\"duration\", \"movie_facebook_likes\"]].head(15)"
   ]
  },
  {
   "cell_type": "code",
   "execution_count": null,
   "metadata": {},
   "outputs": [],
   "source": [
    "df.sort_values(by=[\"duration\", \"movie_facebook_likes\"], ascending=[True, False])[[\"duration\", \"movie_facebook_likes\"]].head(15)"
   ]
  },
  {
   "cell_type": "code",
   "execution_count": null,
   "metadata": {},
   "outputs": [],
   "source": [
    "df['color'].value_counts().sort_values().plot(kind='bar');"
   ]
  },
  {
   "cell_type": "code",
   "execution_count": null,
   "metadata": {},
   "outputs": [],
   "source": [
    "result_df = df.query('duration > 250').sort_values(\"duration\", ascending=False)[['duration', 'director_name']]\n",
    "result_df"
   ]
  },
  {
   "cell_type": "markdown",
   "metadata": {
    "slideshow": {
     "slide_type": "slide"
    }
   },
   "source": [
    "# flights.csv (항공기 운항 기록 데이터)\n",
    "\n",
    "-   MONTH : 비행 월\n",
    "-   DAY : 비행 일\n",
    "-   WEEKDAY : 비행 요일 - 1(월요일)~7(일요일)\n",
    "-   AIRLINE : 항공사 코드\n",
    "-   ORG_AIR : 출발공항\n",
    "-   DEST_AIR : 도착공항\n",
    "-   SCHED_DEP : 출발예정시각\n",
    "-   DEP_DELAY : 출발지연시간(분)\n",
    "-   AIR_TIME : 비행시간(분)\n",
    "-   DIST : 비행거리(마일)\n",
    "-   SCHED_ARR : 도착예정시각\n",
    "-   ARR_DELAY : 도착지연시간(분)\n",
    "-   DIVERTED : 회항여부(1: True, 0: False)\n",
    "-   CANCELLED : 취소여부(1: True, 0: False)\n"
   ]
  },
  {
   "cell_type": "code",
   "execution_count": null,
   "metadata": {},
   "outputs": [],
   "source": [
    "import pandas as pd\n",
    "df = pd.read_csv('data/flights.csv')\n",
    "df.shape"
   ]
  },
  {
   "cell_type": "code",
   "execution_count": null,
   "metadata": {},
   "outputs": [],
   "source": [
    "df.info()"
   ]
  },
  {
   "cell_type": "code",
   "execution_count": null,
   "metadata": {},
   "outputs": [],
   "source": [
    "df.head()"
   ]
  },
  {
   "cell_type": "code",
   "execution_count": null,
   "metadata": {},
   "outputs": [],
   "source": [
    "df.tail()"
   ]
  },
  {
   "cell_type": "code",
   "execution_count": null,
   "metadata": {},
   "outputs": [],
   "source": [
    "df.isnull().sum()"
   ]
  },
  {
   "cell_type": "code",
   "execution_count": null,
   "metadata": {},
   "outputs": [],
   "source": [
    "# 범주형 컬럼들 확인\n",
    "## MONTH\n",
    "df['MONTH'].value_counts().sort_index()"
   ]
  },
  {
   "cell_type": "code",
   "execution_count": null,
   "metadata": {
    "scrolled": true
   },
   "outputs": [],
   "source": [
    "## DAY\n",
    "df['DAY'].value_counts().sort_index()"
   ]
  },
  {
   "cell_type": "code",
   "execution_count": null,
   "metadata": {},
   "outputs": [],
   "source": [
    "## WEEKDAY (요일)\n",
    "df['WEEKDAY'].value_counts().sort_index()"
   ]
  },
  {
   "cell_type": "code",
   "execution_count": null,
   "metadata": {},
   "outputs": [],
   "source": [
    "# AIRLINE(항공사)\n",
    "df['AIRLINE'].value_counts().sort_index()"
   ]
  },
  {
   "cell_type": "code",
   "execution_count": null,
   "metadata": {},
   "outputs": [],
   "source": [
    "# ORG_AIR(출발 공항코드)\n",
    "df['ORG_AIR'].value_counts().sort_index()"
   ]
  },
  {
   "cell_type": "code",
   "execution_count": null,
   "metadata": {},
   "outputs": [],
   "source": [
    "# DEST_AIR(도착 공항 코드)\n",
    "df['DEST_AIR'].value_counts().sort_index()"
   ]
  },
  {
   "cell_type": "markdown",
   "metadata": {
    "slideshow": {
     "slide_type": "slide"
    }
   },
   "source": [
    "# 기술통계 메소드들을 이용한 데이터 집계\n",
    "\n",
    "## 주요 기술통계 메소드\n",
    "\n",
    "| 함수           | 설명                      |\n",
    "| -------------- | ------------------------- |\n",
    "| **sum()**      | 합계                      |\n",
    "| **mean()**     | 평균                      |\n",
    "| **median()**   | 중위수                    |\n",
    "| **mode()**     | 최빈값                    |\n",
    "| **quantile()** | 분위수                    |\n",
    "| **std()**      | 표준편차                  |\n",
    "| **var()**      | 분산                      |\n",
    "| **count()**    | 결측치를 제외한 원소 개수 |\n",
    "| **min()**      | 최소값                    |\n",
    "| **max()**      | 최대값                    |\n",
    "| **idxmax()**   | 최대값 index              |\n",
    "| **idxmin()**   | 최소값 index              |\n",
    "| **unique()**   | 고유값                    |\n",
    "| **nunique()**  | 고유값의 개수             |\n",
    "\n",
    "<center><b style='font-size:1.2em'>cf) value_counts()는 Series에만 사용할 수 있다.</b></center>\n"
   ]
  },
  {
   "cell_type": "markdown",
   "metadata": {
    "slideshow": {
     "slide_type": "fragment"
    }
   },
   "source": [
    "-   DataFrame에 위의 기술 통계 메소드들을 적용할 경우 **컬럼별로 계산한다.**\n",
    "-   sum(), mode(), max(), min(), idxmax(), idxmin(), unique(), nunique(), count()는 **문자열에 적용가능하다.**"
   ]
  },
  {
   "cell_type": "markdown",
   "metadata": {
    "slideshow": {
     "slide_type": "fragment"
    }
   },
   "source": [
    "-   **공통 매개변수**\n",
    "    -   skipna=True(기본값)\n",
    "        -   결측치(NA)를 포함해서 계산할지 여부 설정.\n",
    "        -   True가 기본값으로 결측치(NA)를 제외하고 처리한다.\n",
    "        -   결측치 제외하지 않으려면 skipna=False로 설정하는데 결측치가 있으면 결과는 결측치가 된다.\n",
    "    -   axis\n",
    "        -   DataFrame에 적용할 때 계산방향을 설정\n",
    "            -   0 또는 'index' (기본값): 컬럼 방향으로 집계\n",
    "            -   1 또는 'columns': 행 방향으로 집계\n",
    "    - numeric_only\n",
    "        - 수치형(정수, 실수) 컬럼만 처리할 경우 True로 설정(default: False)"
   ]
  },
  {
   "cell_type": "code",
   "execution_count": null,
   "metadata": {},
   "outputs": [],
   "source": []
  },
  {
   "cell_type": "code",
   "execution_count": null,
   "metadata": {},
   "outputs": [],
   "source": []
  },
  {
   "cell_type": "code",
   "execution_count": null,
   "metadata": {},
   "outputs": [],
   "source": []
  },
  {
   "cell_type": "code",
   "execution_count": null,
   "metadata": {},
   "outputs": [],
   "source": []
  },
  {
   "cell_type": "code",
   "execution_count": null,
   "metadata": {},
   "outputs": [],
   "source": []
  },
  {
   "cell_type": "markdown",
   "metadata": {
    "slideshow": {
     "slide_type": "slide"
    }
   },
   "source": [
    "## aggregate(func, axis=0, \\*args, \\*\\*kwargs) 또는 agg(func, axis=0, \\*args, \\*\\*kwargs)\n",
    "\n",
    "-   DataFrame, Series의 메소드로 **집계결과를 다양한 형태로 모아서 한번에 확인 할 때** 사용한다.\n",
    "    -   **사용자 정의 집계메소드를 사용할 때도 편리하다.**\n",
    "-   **매개변수**\n",
    "    -   func\n",
    "        -   집계 함수 지정\n",
    "            1. 함수명/함수리스트 (문자열)\n",
    "                - 판다스 제공 집계메소드들은 문자열로, 사용자정의 집계함수는 함수 객체로 전달\n",
    "            2. Dictionary : {'집계할컬럼' : 집계함수, ... }\n",
    "                - 컬럼별로 다른 집계를 할 경우\n",
    "    -   axis\n",
    "        -   DataFrame에 적용할 때 0 방향으로 계산할 지 1 방향으로 계산할지 설정\n",
    "            -   0 또는 'index' (기본값): 컬럼 방향으로 집계\n",
    "            -   1 또는 'columns': 행 방향으로 집계\n",
    "    -   \\*args, \\*\\*kwargs\n",
    "        -   함수에 전달할 매개변수.\n",
    "        -   집계함수는 첫번째 매개변수로 Series(컬럼 또는 행)를 받는다. 그 이외의 파라미터가 있는 있는 경우 가변인자로 전달한다.\n"
   ]
  },
  {
   "cell_type": "code",
   "execution_count": null,
   "metadata": {},
   "outputs": [],
   "source": []
  },
  {
   "cell_type": "code",
   "execution_count": null,
   "metadata": {},
   "outputs": [],
   "source": []
  },
  {
   "cell_type": "code",
   "execution_count": null,
   "metadata": {},
   "outputs": [],
   "source": []
  },
  {
   "cell_type": "code",
   "execution_count": null,
   "metadata": {},
   "outputs": [],
   "source": []
  },
  {
   "cell_type": "markdown",
   "metadata": {
    "slideshow": {
     "slide_type": "slide"
    }
   },
   "source": [
    "# Groupby\n",
    "\n",
    "-   특정 열을 기준으로 같은 값을 가지는 행끼리 묶어서 group화 한다.\n",
    "-   **~~ 별 집계를 할 때** 사용한다. (성별, 직급별, 등급별 ...)\n",
    "    -   Group으로 묶을 기준 열은 범주형타입(category)을 사용한다.\n",
    "-   **구문**\n",
    "    -   `DF.groupby('그룹으로묶을기준컬럼')`\n",
    "        -   DataFrameGroupby 객체를 반환한다.\n",
    "        -   DataFrameGroupby 객체는 어떤 행끼리 묶여있는지 정보를 가진다. 이 객체의 집계함수를 사용하면 그룹별 집계를 할 수 있다.\n",
    "            -   `DataFrameGroupby객체['집계할 컬럼'].집계함수()`\n",
    "        -   groupby에 여러개의 컬럼을 기준으로 나눌 경우 리스트에 묶어서 전달한다.\n",
    "        -   집계할 컬럼이 여러개인 경우 리스트로 묶어준다.\n",
    "    -   집계함수\n",
    "        -   기술통계 함수들\n",
    "        -   agg()/aggregate()\n",
    "            -   여러 다른 집계함수 호출시(여러 집계를 같이 볼경우)\n",
    "            -   사용자정의 집계함수 호출시\n",
    "            -   컬럼별로 다른 집계함수들을 호출할 경우\n"
   ]
  },
  {
   "cell_type": "code",
   "execution_count": null,
   "metadata": {},
   "outputs": [],
   "source": []
  },
  {
   "cell_type": "code",
   "execution_count": null,
   "metadata": {},
   "outputs": [],
   "source": []
  },
  {
   "cell_type": "code",
   "execution_count": null,
   "metadata": {},
   "outputs": [],
   "source": []
  },
  {
   "cell_type": "code",
   "execution_count": null,
   "metadata": {},
   "outputs": [],
   "source": []
  },
  {
   "cell_type": "code",
   "execution_count": null,
   "metadata": {},
   "outputs": [],
   "source": []
  },
  {
   "cell_type": "markdown",
   "metadata": {
    "slideshow": {
     "slide_type": "subslide"
    }
   },
   "source": [
    "## 복수열 기준 그룹핑\n",
    "\n",
    "-   두개 이상의 열을 그룹으로 묶을 수 있다.\n",
    "-   groupby의 매개변수에 그룹으로 묶을 컬럼들의 이름을 리스트로 전달한다.\n"
   ]
  },
  {
   "cell_type": "code",
   "execution_count": null,
   "metadata": {},
   "outputs": [],
   "source": []
  },
  {
   "cell_type": "code",
   "execution_count": null,
   "metadata": {},
   "outputs": [],
   "source": []
  },
  {
   "cell_type": "code",
   "execution_count": null,
   "metadata": {},
   "outputs": [],
   "source": []
  },
  {
   "cell_type": "code",
   "execution_count": null,
   "metadata": {},
   "outputs": [],
   "source": []
  },
  {
   "cell_type": "code",
   "execution_count": null,
   "metadata": {},
   "outputs": [],
   "source": []
  },
  {
   "cell_type": "markdown",
   "metadata": {
    "slideshow": {
     "slide_type": "subslide"
    }
   },
   "source": [
    "## Group 별 집계결과에서 특정 조건의 항목만 조회\n",
    "\n",
    "-   Groupby 집계 후 boolean indexing 처리한다.\n"
   ]
  },
  {
   "cell_type": "code",
   "execution_count": null,
   "metadata": {
    "slideshow": {
     "slide_type": "fragment"
    }
   },
   "outputs": [],
   "source": [
    "# 항공사별 취소 건수가 100건 이상인 항공사만 조회\n"
   ]
  },
  {
   "cell_type": "markdown",
   "metadata": {
    "slideshow": {
     "slide_type": "slide"
    }
   },
   "source": [
    "# 사용자 정의 집계함수를 agg() 를 이용해 호출\n",
    "\n",
    "## 사용자 정의 집계 함수 정의\n",
    "\n",
    "-   매개변수\n",
    "    1. Series 또는 DataFrame을 받을 매개변수(필수)\n",
    "    2. 필요한 값을 받을 매개변수를 선언한다. (선택)\n",
    "-   반환값\n",
    "    -   집계결과값 반환\n"
   ]
  },
  {
   "cell_type": "code",
   "execution_count": null,
   "metadata": {},
   "outputs": [],
   "source": [
    "###  최대 최소값의의 차이를 집계하는 사용자 정의 집계함수.\n",
    "def min_max_diff(column):\n",
    "    return column.max() - column.min()"
   ]
  },
  {
   "cell_type": "code",
   "execution_count": null,
   "metadata": {},
   "outputs": [],
   "source": [
    "min_max_diff(df['AIR_TIME'])"
   ]
  },
  {
   "cell_type": "code",
   "execution_count": null,
   "metadata": {},
   "outputs": [],
   "source": [
    "df['AIR_TIME'].agg(min_max_diff)"
   ]
  },
  {
   "cell_type": "code",
   "execution_count": null,
   "metadata": {},
   "outputs": [],
   "source": [
    "df['AIR_TIME'].agg([\"min\", \"max\", min_max_diff])"
   ]
  },
  {
   "cell_type": "code",
   "execution_count": null,
   "metadata": {},
   "outputs": [],
   "source": [
    "df[['DEP_DELAY', 'ARR_DELAY']].agg(min_max_diff)"
   ]
  },
  {
   "cell_type": "markdown",
   "metadata": {},
   "source": [
    "# pivot_table()\n",
    "\n",
    "엑셀의 pivot table 기능을 제공하는 메소드.  \n",
    "분류별 집계(Group으로 묶어 집계)를 처리하는 함수로 group으로 묶고자 하는 컬럼들을 행과 열로 위치시키고 집계값을 값으로 보여준다.  \n",
    "역할은 `groupby()`를 이용한 집계와 같은데 **여러개 컬럼을 기준으로 groupby 를 할 경우 집계결과를 읽는 것이 더 편하다.(가독성이 좋다)**\n",
    "\n",
    "> pivot() 함수와 역할이 다르다.  \n",
    "> pivot() 은 index와 column의 형태를 바꾸는 reshape 함수.\n",
    "\n",
    "-   `DataFrame.pivot_table(values=None, index=None, columns=None, aggfunc='mean', fill_value=None, margins=False, dropna=True, margins_name='All')`\n",
    "-   **매개변수**\n",
    "    -   **index**\n",
    "        -   문자열 또는 리스트. index로 올 컬럼들 => groupby였으면 묶었을 컬럼\n",
    "    -   **columns**\n",
    "        -   문자열 또는 리스트. column으로 올 컬럼들 => groupby였으면 묶었을 컬럼 (index/columns가 묶여서 groupby에 묶을 컬럼들이 된다.)\n",
    "    -   **values**\n",
    "        -   문자열 또는 리스트. 집계할 대상 컬럼들\n",
    "    -   **aggfunc**\n",
    "        -   집계함수 지정. 함수, 함수이름문자열, 함수리스트(함수이름 문자열/함수객체), dict: 집계할 함수\n",
    "        -   기본(생략시): 평균을 구한다. (mean이 기본값)\n",
    "    -   **fill_value, dropna**\n",
    "        -   fill_value: 집계시 NA가 나올경우 채울 값\n",
    "        -   dropna: boolean. 컬럼의 전체값이 NA인 경우 그 컬럼 제거(기본: True)\n",
    "    -   **margins/margins_name**\n",
    "        -   margin: boolean(기본: False). 총집계결과를 만들지 여부.\n",
    "        -   margin_name: margin의 이름 문자열로 지정 (생략시 All)\n"
   ]
  },
  {
   "cell_type": "markdown",
   "metadata": {
    "slideshow": {
     "slide_type": "fragment"
    }
   },
   "source": [
    "### 두개의 컬럼을 grouping 해서 집계\n",
    "\n",
    "-   항공사/출발공항코드 별 취소 총수 (1이 취소이므로 합계를 구한다.)\n",
    "-   사용컬럼\n",
    "    -   grouping할 컬럼\n",
    "        -   AIRLINE: 항공사\n",
    "        -   ORG_AIR: 출발 공항코드\n",
    "    -   집계대상컬럼\n",
    "        -   CANCELLED: 취소여부 - 1:취소, 0: 취소안됨\n",
    "-   집계: sum\n"
   ]
  },
  {
   "cell_type": "code",
   "execution_count": null,
   "metadata": {
    "scrolled": true
   },
   "outputs": [],
   "source": [
    "df.groupby([\"AIRLINE\", \"ORG_AIR\"])['CANCELLED'].sum()"
   ]
  },
  {
   "cell_type": "code",
   "execution_count": null,
   "metadata": {},
   "outputs": [],
   "source": []
  },
  {
   "cell_type": "code",
   "execution_count": null,
   "metadata": {},
   "outputs": [],
   "source": []
  },
  {
   "cell_type": "markdown",
   "metadata": {},
   "source": [
    "### 3개 이상의 컬럼을 grouping해서 집계\n",
    "\n",
    "-   항공사/월/출발공항코드 별 취소 총수\n",
    "-   grouping할 컬럼\n",
    "    -   AIRLINE:항공사\n",
    "    -   MONTH:월\n",
    "    -   ORG_AIR: 출발지 공항\n",
    "-   집계 대상컬럼\n",
    "    -   CANCELLED: 취소여부\n",
    "-   집계 : sum\n"
   ]
  },
  {
   "cell_type": "code",
   "execution_count": null,
   "metadata": {},
   "outputs": [],
   "source": [
    "df.pivot_table(\n",
    "    index=\"MONTH\", \n",
    "    columns=[\"AIRLINE\", \"ORG_AIR\"],\n",
    "    values=\"CANCELLED\",\n",
    "    aggfunc=\"sum\"\n",
    ").T"
   ]
  },
  {
   "cell_type": "code",
   "execution_count": null,
   "metadata": {},
   "outputs": [],
   "source": []
  },
  {
   "cell_type": "markdown",
   "metadata": {},
   "source": [
    "# cut() - 연속형(수치형)을 범주형으로 변환\n",
    "\n",
    "-   cut() : 지정한 값을 기준으로 구간을 나눠 그룹으로 묶는다.\n",
    "    -   `pd.cut(x, bins,right=True, labels=None)`\n",
    "    -   매개변수\n",
    "        -   **x**: 범주형으로 바꿀 대상. 1차원 배열형태(Series, 리스트, ndarray)의 자료구조\n",
    "        -   **bins**: 범주로 나눌때의 기준값(구간경계)들을 리스트로 묶어서 전달한다.\n",
    "        -   **right**: 구간경계의 오른쪽(True-기본)을 포함할지 왼쪽(False)을 포함할지\n",
    "        -   **labels**: 각 구간(범주)의 label을 리스트로 전달\n",
    "            -   생략하면 범위를 범주명으로 사용한다. (ex: (10, 20], ()-포함안함, []-포함)\n"
   ]
  },
  {
   "cell_type": "code",
   "execution_count": null,
   "metadata": {
    "scrolled": true
   },
   "outputs": [],
   "source": [
    "import numpy as np\n",
    "np.random.seed(0)\n",
    "d = {\n",
    "    \"age\": np.random.randint(1, 100, size=30),\n",
    "    \"tall\": np.round(np.random.normal(170, 10, size=30), 2),\n",
    "}\n",
    "df = pd.DataFrame(d)\n",
    "df"
   ]
  },
  {
   "cell_type": "markdown",
   "metadata": {},
   "source": [
    "> ### np.random.normal(평균, 표준편차, size=개수): 정규분포를 따르는 난수 생성\n",
    "> - 난수란 예측할 수 없고 일정한 규칙이 없는, 임의로 발생하는 수를 의미한다. 주로 통계적 분석이나 알고리즘에서 무작위성을 구현할 때 사용된다.\n",
    "> - 특정 데이터 분포를 이용해 난수를 발생시키면, 해당 분포의 특성을 따르는 난수가 생성되도록 제어할 수 있다.\n",
    ">   \n",
    "> #### 데이터 분포\n",
    "> - 분포의 사전적의미는 특정 범위나 구역 내에서 사물이나 현상이 퍼져 있는 상태를 의미\n",
    "> - **데이터 분포는** 값들이 전체 범위 내에서 어떻게 퍼져 있는지를 나타내는 패턴이다. 이를 통해 데이터의 중심 경향, 변동성, 대칭성 등을 파악할 수 있다.\n",
    "> #### 정규분포:\n",
    "> - 정규분포는 데이터가 **평균을 중심으로 좌우 대칭**을 이루며 **종 모양의 분포**를 나타내는 확률 분포다. 평균 주변에 데이터들이 집중되고, 평균에서 멀어질수록 데이터의 빈도가 감소하는 특징을 가진다. 대표적인 예로 사람들의 키나 시험 점수가 정규분포를 따르는 경우가 많다.\n",
    "> - 정규분포는 평균과 분산을 통해 표현된다.\n",
    "> - 정규분포중 평균이 0이고 표준편차가 1인 것을 **표준 정규 분포** 라고 한다.\n",
    "> - 정규분포를 이용한 난수\n",
    ">     - 평균 +- 표준편차  범위: 대략 70% 분포됨.\n",
    ">     - 평균 +- 표준편차 * 2 범위: 대략 95% 분포됨.\n",
    ">     - 평균 +- 표준편차 * 3 범위: 대략 99% 분포됨.\n",
    "> - ex)\n",
    ">    - 평균: 170, 표준편차: 10, 100 개 난수 생성\n",
    ">         - 160 ~ 180 : 70 개\n",
    ">         - 150 ~ 190 : 95 개"
   ]
  },
  {
   "cell_type": "code",
   "execution_count": null,
   "metadata": {},
   "outputs": [],
   "source": [
    "나이대 = pd.cut(\n",
    "    df['age'],    # 범주형으로 만들 수치형값들.\n",
    "    bins=3,       # 몇개의 범주로 나눌지. (범위로 등분)  \n",
    "    right=False   #default: True -> 등분 범위에 어느쪽을 포함시킬지.  # True: 끝 포함, False: 시작 포함\n",
    ")"
   ]
  },
  {
   "cell_type": "code",
   "execution_count": null,
   "metadata": {},
   "outputs": [],
   "source": [
    "pd.DataFrame({\"age\": df['age'], \"나이대\":나이대})"
   ]
  },
  {
   "cell_type": "code",
   "execution_count": null,
   "metadata": {},
   "outputs": [],
   "source": [
    "나이대.value_counts()"
   ]
  },
  {
   "cell_type": "markdown",
   "metadata": {},
   "source": [
    "-   범위를 표현방식\n",
    "    -   (시작값, 종료값), \\[시작값, 종료값\\] : 시작값 ~ 종료값\n",
    "    -   () : opened - 불포함, [] : closed - 포함\n",
    "    -   (100, 200): 100 ~ 200 (100, 200 불포함)\n",
    "    -   \\[100, 200\\]: 100 ~ 200 (100, 200 포함)\n",
    "    -   (100, 200]: 100 ~ 200 (100: 불포함, 200 포함)\n"
   ]
  },
  {
   "cell_type": "code",
   "execution_count": null,
   "metadata": {
    "scrolled": true
   },
   "outputs": [],
   "source": [
    "나이대 = pd.cut(\n",
    "    df['age'],   # 범주형으로 만들 수치형값들.\n",
    "    bins=3,      # 몇개의 범주로 나눌지. (범위로 등분)     \n",
    "    labels=[\"나이대1\", \"나이대2\", \"나이대3\"] # 범주값 지정.\n",
    ")\n",
    "나이대"
   ]
  },
  {
   "cell_type": "code",
   "execution_count": null,
   "metadata": {
    "scrolled": true
   },
   "outputs": [],
   "source": [
    "### 원하는 간격으로 범주값들을 나누기.\n",
    "\n",
    "l = [1, 5, 20, 40, 50, 100]   # 최소값, 분위값들(나누는 지점의 값), 최대값\n",
    "                              # 0 ~ 5, 5 ~ 20, 20 ~ 40, 40 ~ 50, 50 ~ 100\n",
    "result = pd.cut(df['age'], bins=l, labels=[\"유아\", \"청소년\", \"청년\", \"장년\", \"노년\"])\n",
    "result"
   ]
  },
  {
   "cell_type": "code",
   "execution_count": null,
   "metadata": {},
   "outputs": [],
   "source": [
    "result_tall = pd.cut(df['tall'], bins=3, labels=[\"소\", \"중\", \"대\"])\n",
    "result_tall"
   ]
  },
  {
   "cell_type": "code",
   "execution_count": null,
   "metadata": {},
   "outputs": [],
   "source": [
    "df.insert(1, \"나이대\", result)\n",
    "df.head()"
   ]
  },
  {
   "cell_type": "code",
   "execution_count": null,
   "metadata": {},
   "outputs": [],
   "source": [
    "df['키크기'] = result_tall\n",
    "df.head()"
   ]
  },
  {
   "cell_type": "code",
   "execution_count": null,
   "metadata": {},
   "outputs": [],
   "source": [
    "df.groupby(\"나이대\")['tall'].mean()"
   ]
  },
  {
   "cell_type": "code",
   "execution_count": null,
   "metadata": {},
   "outputs": [],
   "source": [
    "df.groupby('키크기')['age'].mean()"
   ]
  },
  {
   "cell_type": "code",
   "execution_count": null,
   "metadata": {},
   "outputs": [],
   "source": []
  },
  {
   "cell_type": "markdown",
   "metadata": {},
   "source": [
    "# apply() - Series, DataFrame의 데이터 일괄 처리\n",
    "\n",
    "데이터프레임의 행들과 열들 또는 Series의 원소들에 공통된 처리를 할 때 apply 함수를 이용하면 반복문을 사용하지 않고 일괄 처리가 가능하다.\n",
    "\n",
    "-   DataFrame.apply(함수, axis=0, args=(), \\*\\*kwarg)\n",
    "    -   인수로 행이나 열을 받는 함수를 apply 메서드의 인수로 넣으면 데이터프레임의 행이나 열들을 하나씩 함수에 전달한다.\n",
    "    -   매개변수\n",
    "        -   **함수**: DataFrame의 행들 또는 열들을 전달할 함수\n",
    "        -   **axis**: **0-컬럼(열)을 전달, 1-행을 전달 (기본값 0)**\n",
    "        -   **args**: 함수에 행/열 이외에 전달할 매개변수를 위치기반(순서대로) 튜플로 전달\n",
    "        -   **\\*\\*kwarg**: 함수에 행/열 이외에 전달할 매개변수를 키워드 인자로 전달\n",
    "-   Series.apply(함수, args=(), \\*\\*kwarg)\n",
    "    -   인수로 Series의 원소들을 받는 함수를 apply 메소드의 인수로 넣으면 Series의 원소들을 하나씩 함수로 전달한다.\n",
    "    -   매개변수\n",
    "        -   **함수**: Series의 원소들을 전달할 함수\n",
    "        -   **args**: 함수에 원소 이외에 전달할 매개변수를 위치기반(순서대로) 튜플로 전달\n",
    "        -   **\\*\\*kwarg**: 함수에 원소 이외에 전달할 매개변수를 키워드 인자로 전달\n"
   ]
  },
  {
   "cell_type": "code",
   "execution_count": null,
   "metadata": {},
   "outputs": [],
   "source": [
    "df = pd.read_csv(\"data/flights.csv\")\n",
    "df.columns"
   ]
  },
  {
   "cell_type": "code",
   "execution_count": null,
   "metadata": {},
   "outputs": [],
   "source": [
    "# 요일: 1 (월), 7 (일)\n",
    "df['WEEKDAY'].value_counts().sort_index()"
   ]
  },
  {
   "cell_type": "code",
   "execution_count": null,
   "metadata": {},
   "outputs": [],
   "source": [
    "\"월화수목금토일\"[1]"
   ]
  },
  {
   "cell_type": "code",
   "execution_count": null,
   "metadata": {},
   "outputs": [],
   "source": [
    "# 일괄처리 함수 (정수->요일 문자열로 변환)\n",
    "import numpy as np\n",
    "def convert_weekday(value):\n",
    "    if pd.isna(value):\n",
    "        return np.nan\n",
    "    return \"월화수목금토일\"[int(value)-1]+\"요일\"  \n",
    "    # indexing에서  index는 정수만 가능. 만약 컬럼에 결측치가 있으면 그 컬럼(Series)의 타입은 float이 된다. 그래서 결측치가 있는 행에 대해 이 함수가 적용될 경우 Exception이 발생한다. 그래서 int로 형변환이 필요.\n",
    "    "
   ]
  },
  {
   "cell_type": "code",
   "execution_count": null,
   "metadata": {
    "scrolled": true
   },
   "outputs": [],
   "source": [
    "df['WEEKDAY'].apply(convert_weekday)[150:160]"
   ]
  },
  {
   "cell_type": "code",
   "execution_count": null,
   "metadata": {},
   "outputs": [],
   "source": [
    "df['WEEKDAY'].apply(lambda x : \"월화수목금토일\"[x-1]+\"요일\")"
   ]
  },
  {
   "cell_type": "code",
   "execution_count": null,
   "metadata": {},
   "outputs": [],
   "source": []
  },
  {
   "cell_type": "code",
   "execution_count": null,
   "metadata": {},
   "outputs": [],
   "source": []
  }
 ],
 "metadata": {
  "kernelspec": {
   "display_name": "Python 3 (ipykernel)",
   "language": "python",
   "name": "python3"
  },
  "language_info": {
   "codemirror_mode": {
    "name": "ipython",
    "version": 3
   },
   "file_extension": ".py",
   "mimetype": "text/x-python",
   "name": "python",
   "nbconvert_exporter": "python",
   "pygments_lexer": "ipython3",
   "version": "3.12.3"
  },
  "toc": {
   "base_numbering": 1,
   "nav_menu": {},
   "number_sections": false,
   "sideBar": false,
   "skip_h1_title": false,
   "title_cell": "Table of Contents",
   "title_sidebar": "Contents",
   "toc_cell": false,
   "toc_position": {},
   "toc_section_display": true,
   "toc_window_display": false
  },
  "varInspector": {
   "cols": {
    "lenName": 16,
    "lenType": 16,
    "lenVar": 40
   },
   "kernels_config": {
    "python": {
     "delete_cmd_postfix": "",
     "delete_cmd_prefix": "del ",
     "library": "var_list.py",
     "varRefreshCmd": "print(var_dic_list())"
    },
    "r": {
     "delete_cmd_postfix": ") ",
     "delete_cmd_prefix": "rm(",
     "library": "var_list.r",
     "varRefreshCmd": "cat(var_dic_list()) "
    }
   },
   "types_to_exclude": [
    "module",
    "function",
    "builtin_function_or_method",
    "instance",
    "_Feature"
   ],
   "window_display": false
  }
 },
 "nbformat": 4,
 "nbformat_minor": 4
}
